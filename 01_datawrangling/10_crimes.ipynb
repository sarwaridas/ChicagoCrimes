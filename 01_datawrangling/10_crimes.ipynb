{
 "cells": [
  {
   "cell_type": "markdown",
   "source": [
    "# Data wrangling for crime data\n",
    "1. Read data\n",
    "2. Groupby time periods\n"
   ],
   "metadata": {}
  },
  {
   "cell_type": "code",
   "execution_count": 4,
   "source": [
    "import pandas as pd\n",
    "import numpy as np\n",
    "os.chdir('/Users/sarwaridas/Desktop/IDS 702/Final Project/ids720_CoffeeAndCrimes/')\n",
    "#crime = pd.read_csv(os.getcwd()+\"/00_sourcedata/Crimes_-_2001_to_Present.csv\")\n",
    "crime=pd.read_csv(\"/Users/sarwaridas/Desktop/IDS 702/Final Project/Crimes_-_2001_to_Present.csv\")\n",
    "#crime=crime.loc[crime['Community Area']!=0]\n"
   ],
   "outputs": [],
   "metadata": {}
  },
  {
   "cell_type": "code",
   "execution_count": 5,
   "source": [
    "crime = crime.drop(\n",
    "    [\n",
    "        \"Updated On\",\n",
    "        \"Latitude\",\n",
    "        \"Longitude\",\n",
    "        \"FBI Code\",\n",
    "        \"X Coordinate\",\n",
    "        \"Y Coordinate\",\n",
    "        \"Case Number\",\n",
    "        \"Block\",\n",
    "        \"IUCR\",\n",
    "        \"Arrest\",\n",
    "        \"Domestic\",\n",
    "        \"Beat\",\n",
    "    ],\n",
    "    axis=1,\n",
    ")\n",
    "crime.nunique() #77 community areas"
   ],
   "outputs": [
    {
     "output_type": "execute_result",
     "data": {
      "text/plain": [
       "ID                      290059\n",
       "Date                    269782\n",
       "Primary Type                 2\n",
       "Description                 31\n",
       "Location Description       196\n",
       "District                    23\n",
       "Ward                        50\n",
       "Community Area              78\n",
       "Year                        21\n",
       "Location                154683\n",
       "dtype: int64"
      ]
     },
     "metadata": {},
     "execution_count": 5
    }
   ],
   "metadata": {}
  },
  {
   "cell_type": "code",
   "execution_count": 15,
   "source": [
    "crime1=crime.loc[crime.Year>2004]\n",
    "crime1=crime1.loc[crime1.Year<2020]\n",
    "crime1.shape\n",
    "\n",
    "crime_by_year_CCA1 = crime1[[\"Year\", \"Community Area\",\"ID\"]].groupby([\"Year\", \"Community Area\"], as_index=False).count()\n",
    "crime_by_year_CCA1.shape "
   ],
   "outputs": [
    {
     "output_type": "execute_result",
     "data": {
      "text/plain": [
       "(1155, 3)"
      ]
     },
     "metadata": {},
     "execution_count": 15
    }
   ],
   "metadata": {}
  },
  {
   "cell_type": "code",
   "execution_count": 16,
   "source": [
    "crime_by_year_CCA1"
   ],
   "outputs": [
    {
     "output_type": "execute_result",
     "data": {
      "text/plain": [
       "      Year  Community Area   ID\n",
       "0     2005             0.0    1\n",
       "1     2005             1.0  306\n",
       "2     2005             2.0  194\n",
       "3     2005             3.0  227\n",
       "4     2005             4.0   85\n",
       "...    ...             ...  ...\n",
       "1150  2019            73.0   91\n",
       "1151  2019            74.0    3\n",
       "1152  2019            75.0   43\n",
       "1153  2019            76.0    8\n",
       "1154  2019            77.0   69\n",
       "\n",
       "[1155 rows x 3 columns]"
      ],
      "text/html": [
       "<div>\n",
       "<style scoped>\n",
       "    .dataframe tbody tr th:only-of-type {\n",
       "        vertical-align: middle;\n",
       "    }\n",
       "\n",
       "    .dataframe tbody tr th {\n",
       "        vertical-align: top;\n",
       "    }\n",
       "\n",
       "    .dataframe thead th {\n",
       "        text-align: right;\n",
       "    }\n",
       "</style>\n",
       "<table border=\"1\" class=\"dataframe\">\n",
       "  <thead>\n",
       "    <tr style=\"text-align: right;\">\n",
       "      <th></th>\n",
       "      <th>Year</th>\n",
       "      <th>Community Area</th>\n",
       "      <th>ID</th>\n",
       "    </tr>\n",
       "  </thead>\n",
       "  <tbody>\n",
       "    <tr>\n",
       "      <th>0</th>\n",
       "      <td>2005</td>\n",
       "      <td>0.0</td>\n",
       "      <td>1</td>\n",
       "    </tr>\n",
       "    <tr>\n",
       "      <th>1</th>\n",
       "      <td>2005</td>\n",
       "      <td>1.0</td>\n",
       "      <td>306</td>\n",
       "    </tr>\n",
       "    <tr>\n",
       "      <th>2</th>\n",
       "      <td>2005</td>\n",
       "      <td>2.0</td>\n",
       "      <td>194</td>\n",
       "    </tr>\n",
       "    <tr>\n",
       "      <th>3</th>\n",
       "      <td>2005</td>\n",
       "      <td>3.0</td>\n",
       "      <td>227</td>\n",
       "    </tr>\n",
       "    <tr>\n",
       "      <th>4</th>\n",
       "      <td>2005</td>\n",
       "      <td>4.0</td>\n",
       "      <td>85</td>\n",
       "    </tr>\n",
       "    <tr>\n",
       "      <th>...</th>\n",
       "      <td>...</td>\n",
       "      <td>...</td>\n",
       "      <td>...</td>\n",
       "    </tr>\n",
       "    <tr>\n",
       "      <th>1150</th>\n",
       "      <td>2019</td>\n",
       "      <td>73.0</td>\n",
       "      <td>91</td>\n",
       "    </tr>\n",
       "    <tr>\n",
       "      <th>1151</th>\n",
       "      <td>2019</td>\n",
       "      <td>74.0</td>\n",
       "      <td>3</td>\n",
       "    </tr>\n",
       "    <tr>\n",
       "      <th>1152</th>\n",
       "      <td>2019</td>\n",
       "      <td>75.0</td>\n",
       "      <td>43</td>\n",
       "    </tr>\n",
       "    <tr>\n",
       "      <th>1153</th>\n",
       "      <td>2019</td>\n",
       "      <td>76.0</td>\n",
       "      <td>8</td>\n",
       "    </tr>\n",
       "    <tr>\n",
       "      <th>1154</th>\n",
       "      <td>2019</td>\n",
       "      <td>77.0</td>\n",
       "      <td>69</td>\n",
       "    </tr>\n",
       "  </tbody>\n",
       "</table>\n",
       "<p>1155 rows × 3 columns</p>\n",
       "</div>"
      ]
     },
     "metadata": {},
     "execution_count": 16
    }
   ],
   "metadata": {}
  },
  {
   "cell_type": "code",
   "execution_count": 4,
   "source": [
    "(100 * crime.isna().sum()) / len(crime)  # Missing 8.14% data for Community Area"
   ],
   "outputs": [
    {
     "output_type": "execute_result",
     "data": {
      "text/plain": [
       "ID                      0.000000\n",
       "Date                    0.000000\n",
       "Primary Type            0.000000\n",
       "Description             0.000000\n",
       "Location Description    0.001379\n",
       "District                0.001724\n",
       "Ward                    8.147681\n",
       "Community Area          8.153886\n",
       "Year                    0.000000\n",
       "Location                0.499211\n",
       "dtype: float64"
      ]
     },
     "metadata": {},
     "execution_count": 4
    }
   ],
   "metadata": {}
  },
  {
   "cell_type": "code",
   "execution_count": 6,
   "source": [
    "crime.head()"
   ],
   "outputs": [
    {
     "output_type": "execute_result",
     "data": {
      "text/plain": [
       "         ID                    Date Primary Type  \\\n",
       "0  10224745  09/05/2015 11:30:00 AM      ROBBERY   \n",
       "1  10224763  09/05/2015 01:45:00 PM      ROBBERY   \n",
       "2  10224767  09/04/2015 04:15:00 PM      ROBBERY   \n",
       "3  10224781  09/05/2015 11:20:00 AM      ROBBERY   \n",
       "4  10224939  09/05/2015 02:50:00 PM      ROBBERY   \n",
       "\n",
       "                     Description Location Description  District  Ward  \\\n",
       "0          STRONGARM - NO WEAPON               STREET      12.0  27.0   \n",
       "1          STRONGARM - NO WEAPON             SIDEWALK       3.0   5.0   \n",
       "2                 ARMED: HANDGUN             SIDEWALK       4.0   7.0   \n",
       "3          STRONGARM - NO WEAPON               STREET      20.0  40.0   \n",
       "4  ARMED: OTHER DANGEROUS WEAPON               STREET      10.0  24.0   \n",
       "\n",
       "   Community Area  Year                       Location  \n",
       "0            27.0  2015   (41.88281374, -87.704325717)  \n",
       "1            43.0  2015  (41.766247597, -87.575997062)  \n",
       "2            46.0  2015   (41.75135862, -87.560164545)  \n",
       "3             2.0  2015   (41.984956576, -87.69589518)  \n",
       "4            29.0  2015  (41.854752959, -87.711233594)  "
      ],
      "text/html": [
       "<div>\n",
       "<style scoped>\n",
       "    .dataframe tbody tr th:only-of-type {\n",
       "        vertical-align: middle;\n",
       "    }\n",
       "\n",
       "    .dataframe tbody tr th {\n",
       "        vertical-align: top;\n",
       "    }\n",
       "\n",
       "    .dataframe thead th {\n",
       "        text-align: right;\n",
       "    }\n",
       "</style>\n",
       "<table border=\"1\" class=\"dataframe\">\n",
       "  <thead>\n",
       "    <tr style=\"text-align: right;\">\n",
       "      <th></th>\n",
       "      <th>ID</th>\n",
       "      <th>Date</th>\n",
       "      <th>Primary Type</th>\n",
       "      <th>Description</th>\n",
       "      <th>Location Description</th>\n",
       "      <th>District</th>\n",
       "      <th>Ward</th>\n",
       "      <th>Community Area</th>\n",
       "      <th>Year</th>\n",
       "      <th>Location</th>\n",
       "    </tr>\n",
       "  </thead>\n",
       "  <tbody>\n",
       "    <tr>\n",
       "      <th>0</th>\n",
       "      <td>10224745</td>\n",
       "      <td>09/05/2015 11:30:00 AM</td>\n",
       "      <td>ROBBERY</td>\n",
       "      <td>STRONGARM - NO WEAPON</td>\n",
       "      <td>STREET</td>\n",
       "      <td>12.0</td>\n",
       "      <td>27.0</td>\n",
       "      <td>27.0</td>\n",
       "      <td>2015</td>\n",
       "      <td>(41.88281374, -87.704325717)</td>\n",
       "    </tr>\n",
       "    <tr>\n",
       "      <th>1</th>\n",
       "      <td>10224763</td>\n",
       "      <td>09/05/2015 01:45:00 PM</td>\n",
       "      <td>ROBBERY</td>\n",
       "      <td>STRONGARM - NO WEAPON</td>\n",
       "      <td>SIDEWALK</td>\n",
       "      <td>3.0</td>\n",
       "      <td>5.0</td>\n",
       "      <td>43.0</td>\n",
       "      <td>2015</td>\n",
       "      <td>(41.766247597, -87.575997062)</td>\n",
       "    </tr>\n",
       "    <tr>\n",
       "      <th>2</th>\n",
       "      <td>10224767</td>\n",
       "      <td>09/04/2015 04:15:00 PM</td>\n",
       "      <td>ROBBERY</td>\n",
       "      <td>ARMED: HANDGUN</td>\n",
       "      <td>SIDEWALK</td>\n",
       "      <td>4.0</td>\n",
       "      <td>7.0</td>\n",
       "      <td>46.0</td>\n",
       "      <td>2015</td>\n",
       "      <td>(41.75135862, -87.560164545)</td>\n",
       "    </tr>\n",
       "    <tr>\n",
       "      <th>3</th>\n",
       "      <td>10224781</td>\n",
       "      <td>09/05/2015 11:20:00 AM</td>\n",
       "      <td>ROBBERY</td>\n",
       "      <td>STRONGARM - NO WEAPON</td>\n",
       "      <td>STREET</td>\n",
       "      <td>20.0</td>\n",
       "      <td>40.0</td>\n",
       "      <td>2.0</td>\n",
       "      <td>2015</td>\n",
       "      <td>(41.984956576, -87.69589518)</td>\n",
       "    </tr>\n",
       "    <tr>\n",
       "      <th>4</th>\n",
       "      <td>10224939</td>\n",
       "      <td>09/05/2015 02:50:00 PM</td>\n",
       "      <td>ROBBERY</td>\n",
       "      <td>ARMED: OTHER DANGEROUS WEAPON</td>\n",
       "      <td>STREET</td>\n",
       "      <td>10.0</td>\n",
       "      <td>24.0</td>\n",
       "      <td>29.0</td>\n",
       "      <td>2015</td>\n",
       "      <td>(41.854752959, -87.711233594)</td>\n",
       "    </tr>\n",
       "  </tbody>\n",
       "</table>\n",
       "</div>"
      ]
     },
     "metadata": {},
     "execution_count": 6
    }
   ],
   "metadata": {}
  },
  {
   "cell_type": "code",
   "execution_count": 9,
   "source": [
    "crime_by_year_CCA = crime[[\"Year\", \"Community Area\",\"ID\"]].groupby([\"Year\", \"Community Area\"], as_index=False).count()\n",
    "crime_by_year_CCA = crime_by_year_CCA.loc[crime_by_year_CCA[\"Year\"] != 2001] #something is up with numbers for 2001\n",
    "crime_by_year_CCA.sample(2) "
   ],
   "outputs": [
    {
     "output_type": "execute_result",
     "data": {
      "text/plain": [
       "      Year  Community Area   ID\n",
       "1036  2014            46.0  190\n",
       "859   2012            23.0  465"
      ],
      "text/html": [
       "<div>\n",
       "<style scoped>\n",
       "    .dataframe tbody tr th:only-of-type {\n",
       "        vertical-align: middle;\n",
       "    }\n",
       "\n",
       "    .dataframe tbody tr th {\n",
       "        vertical-align: top;\n",
       "    }\n",
       "\n",
       "    .dataframe thead th {\n",
       "        text-align: right;\n",
       "    }\n",
       "</style>\n",
       "<table border=\"1\" class=\"dataframe\">\n",
       "  <thead>\n",
       "    <tr style=\"text-align: right;\">\n",
       "      <th></th>\n",
       "      <th>Year</th>\n",
       "      <th>Community Area</th>\n",
       "      <th>ID</th>\n",
       "    </tr>\n",
       "  </thead>\n",
       "  <tbody>\n",
       "    <tr>\n",
       "      <th>1036</th>\n",
       "      <td>2014</td>\n",
       "      <td>46.0</td>\n",
       "      <td>190</td>\n",
       "    </tr>\n",
       "    <tr>\n",
       "      <th>859</th>\n",
       "      <td>2012</td>\n",
       "      <td>23.0</td>\n",
       "      <td>465</td>\n",
       "    </tr>\n",
       "  </tbody>\n",
       "</table>\n",
       "</div>"
      ]
     },
     "metadata": {},
     "execution_count": 9
    }
   ],
   "metadata": {}
  },
  {
   "cell_type": "code",
   "execution_count": 11,
   "source": [
    "crime_by_year_CCA.Year.s"
   ],
   "outputs": [
    {
     "output_type": "execute_result",
     "data": {
      "text/plain": [
       "(1540, 3)"
      ]
     },
     "metadata": {},
     "execution_count": 11
    }
   ],
   "metadata": {}
  },
  {
   "cell_type": "code",
   "execution_count": 11,
   "source": [
    "# import altair as alt\n",
    "# alt.Chart(crime_by_year_CCA).mark_circle(size=60).encode(\n",
    "#     x=\"Year:O\", y=\"ID:Q\", color=\"Ward:N\", tooltip=[\"Community Area\", \"Year\", \"ID\"]\n",
    "# ).interactive()\n"
   ],
   "outputs": [],
   "metadata": {}
  },
  {
   "cell_type": "code",
   "execution_count": 10,
   "source": [
    "# CCA = crime_by_year_CCA.Ward.unique()\n",
    "# input_dropdown = alt.binding_select(options=CCA)\n",
    "# selection = alt.selection_single(fields=[\"Community Area\"], bind=input_dropdown, name=\"CCA:\")\n",
    "# color = alt.condition(\n",
    "#     selection, alt.Color(\"Community Area:N\", legend=None), alt.value(\"lightgray\")\n",
    "# )\n",
    "\n",
    "# alt.Chart(crime_by_year_CCA).mark_point().encode(\n",
    "#     x=alt.X(\"Year:O\", scale=alt.Scale(zero=False)),\n",
    "#     y=alt.Y(\"ID:Q\", scale=alt.Scale(zero=False)),\n",
    "#     color=\"Community Area:N\",\n",
    "#     tooltip=[\"Community Area\", \"Year\", \"ID\"],\n",
    "# ).add_selection(selection).transform_filter(selection)"
   ],
   "outputs": [],
   "metadata": {}
  },
  {
   "cell_type": "code",
   "execution_count": 12,
   "source": [
    "os.chdir('/Users/sarwaridas/Desktop/IDS 702/Final Project/ids720_CoffeeAndCrimes/02_processed_data')\n",
    "crime_by_year_CCA.to_csv(\"crime_by_year_CCA.csv\")"
   ],
   "outputs": [],
   "metadata": {}
  },
  {
   "cell_type": "code",
   "execution_count": 13,
   "source": [
    "crime_by_year_CCA.columns"
   ],
   "outputs": [
    {
     "output_type": "execute_result",
     "data": {
      "text/plain": [
       "Index(['Year', 'Community Area', 'ID'], dtype='object')"
      ]
     },
     "metadata": {},
     "execution_count": 13
    }
   ],
   "metadata": {}
  }
 ],
 "metadata": {
  "orig_nbformat": 4,
  "language_info": {
   "name": "python",
   "version": "3.9.0",
   "mimetype": "text/x-python",
   "codemirror_mode": {
    "name": "ipython",
    "version": 3
   },
   "pygments_lexer": "ipython3",
   "nbconvert_exporter": "python",
   "file_extension": ".py"
  },
  "kernelspec": {
   "name": "python3",
   "display_name": "Python 3.9.0 64-bit ('venv1': conda)"
  },
  "interpreter": {
   "hash": "7a6d299408f2023e0a200d93f96af30feb246c6cc222adc42d2612aa5ba88688"
  }
 },
 "nbformat": 4,
 "nbformat_minor": 2
}