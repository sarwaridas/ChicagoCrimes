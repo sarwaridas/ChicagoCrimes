{
 "cells": [
  {
   "cell_type": "markdown",
   "source": [
    "# Main predictor: Coffee shops\n",
    "1. Read data\n",
    "2. Extract licenses with coffee or cafe in them\n",
    "3. Extract year they were licensed\n",
    "4. Convert area to Chicago Community Area"
   ],
   "metadata": {}
  },
  {
   "cell_type": "code",
   "execution_count": 8,
   "source": [
    "import pandas as pd\n",
    "import numpy as np\n",
    "import os\n",
    "os.chdir('/Users/sarwaridas/Desktop/IDS 702/Final Project/ids720_CoffeeAndCrimes/00_sourcedata')\n",
    "col_list = [\n",
    "    \"ID\",\n",
    "    \"LEGAL NAME\",\n",
    "    \"DOING BUSINESS AS NAME\",\n",
    "    \"ADDRESS\",\n",
    "    \"CITY\",\n",
    "    \"STATE\",\n",
    "    \"ZIP CODE\",\n",
    "    \"WARD\",\n",
    "    \"PRECINCT\",\n",
    "    \"WARD PRECINCT\",\n",
    "    \"LICENSE STATUS\",\n",
    "    \"LICENSE STATUS CHANGE DATE\",\n",
    "    \"LICENSE DESCRIPTION\",\n",
    "    \"BUSINESS ACTIVITY ID\",\n",
    "    \"BUSINESS ACTIVITY\",\n",
    "    \"LICENSE TERM START DATE\",\n",
    "    \"LICENSE TERM EXPIRATION DATE\",\n",
    "    \"DATE ISSUED\",\n",
    "    \"LATITUDE\",\n",
    "    \"LONGITUDE\",\n",
    "    'LOCATION'\n",
    "]\n",
    "df_full = pd.read_csv(\"/Users/sarwaridas/Desktop/Business_Licenses.csv\",\n",
    "    usecols=col_list,\n",
    "    low_memory=False,\n",
    ")\n",
    "\n",
    "# https://data.cityofchicago.org/Community-Economic-Development/Business-Licenses/r5kz-chrr\n"
   ],
   "outputs": [],
   "metadata": {}
  },
  {
   "cell_type": "markdown",
   "source": [
    "## Cleaning for coffee shops and extracting year"
   ],
   "metadata": {}
  },
  {
   "cell_type": "code",
   "execution_count": 9,
   "source": [
    "df_full = df_full.loc[\n",
    "    (df_full[\"STATE\"] == \"IL\") & (df_full[\"CITY\"] == \"CHICAGO\")\n",
    "]  # subsetting for chicago\n",
    "names_doingbusiness = [str(x).lower() for x in df_full[\"DOING BUSINESS AS NAME\"]]\n",
    "names_businessactivity = [str(x).lower() for x in df_full[\"BUSINESS ACTIVITY\"]]\n",
    "names_legalactivity = [str(x).lower() for x in df_full[\"LEGAL NAME\"]]\n",
    "\n",
    "keep_row = []\n",
    "for a, b, c in zip(names_doingbusiness, names_businessactivity, names_legalactivity):\n",
    "    keep = 0\n",
    "    if (\n",
    "        (\"coffee\" in a)\n",
    "        or (\"coffee\" in b)\n",
    "        or (\"coffee\" in c)\n",
    "        or (\"cafe\" in a)\n",
    "        or (\"cafe\" in b)\n",
    "        or (\"coffee\" in c)\n",
    "    ):\n",
    "        keep = 1\n",
    "    keep_row.append(keep)\n",
    "\n",
    "\n",
    "df_full.insert(loc=0, column=\"names_doingbusiness\", value=names_doingbusiness)\n",
    "df_full.insert(loc=1, column=\"names_businessactivity\", value=names_businessactivity)\n",
    "df_full.insert(loc=2, column=\"names_legalactivity\", value=names_legalactivity)\n",
    "df_full.insert(loc=3, column=\"keep_row\", value=keep_row)\n",
    "df = df_full.loc[df_full.keep_row == 1]\n",
    "df = df.drop([\"LEGAL NAME\", \"DOING BUSINESS AS NAME\", \"CITY\", \"STATE\"], axis=1)\n"
   ],
   "outputs": [],
   "metadata": {}
  },
  {
   "cell_type": "code",
   "execution_count": 10,
   "source": [
    "df[\"lc_start_date\"] = pd.to_datetime(df[\"LICENSE TERM START DATE\"], format=\"%m/%d/%Y\")\n",
    "df['year']=df['lc_start_date'].map(lambda x: x.year)\n",
    "#df.insert(loc=5, column='years', value=years)\n",
    "df=df.loc[df.year>2000]\n",
    "df = df.drop(\n",
    "    [\n",
    "        \"LICENSE TERM START DATE\",\n",
    "        \"LICENSE TERM EXPIRATION DATE\",\n",
    "        \"DATE ISSUED\",\n",
    "        \"LICENSE STATUS\",\n",
    "        \"LICENSE STATUS CHANGE DATE\",\n",
    "    ],\n",
    "    axis=1,\n",
    ")\n",
    "df.head()\n"
   ],
   "outputs": [
    {
     "output_type": "execute_result",
     "data": {
      "text/plain": [
       "                      names_doingbusiness  \\\n",
       "201                        arturo express   \n",
       "840                         social junkie   \n",
       "1223                        social junkie   \n",
       "2027  lutz continental cafe & pastry shop   \n",
       "2251             gaslight coffee roasters   \n",
       "\n",
       "                     names_businessactivity           names_legalactivity  \\\n",
       "201        retail sales of perishable foods             arturo coffee inc   \n",
       "840   preparation of food, coffee or drinks     3848 n. harlem tavern llc   \n",
       "1223  preparation of food, coffee or drinks     3848 n. harlem tavern llc   \n",
       "2027       retail sales of perishable foods         pastry partners, inc.   \n",
       "2251       retail sales of perishable foods  gaslight coffee roasters llc   \n",
       "\n",
       "      keep_row                ID                   ADDRESS ZIP CODE  WARD  \\\n",
       "201          1    53931-20200916            130 S CANAL ST    60606  42.0   \n",
       "840          1  2551384-20171214       3848 N HARLEM AVE 1    60634  38.0   \n",
       "1223         1  2551384-20191216       3848 N HARLEM AVE 1    60634  38.0   \n",
       "2027         1  1356917-20201216  2454-2458 W MONTROSE AVE    60618  47.0   \n",
       "2251         1  2185009-20201016      2385 N MILWAUKEE AVE    60647   1.0   \n",
       "\n",
       "      PRECINCT WARD PRECINCT        LICENSE DESCRIPTION BUSINESS ACTIVITY ID  \\\n",
       "201       12.0         42-12  Retail Food Establishment                  775   \n",
       "840        3.0          38-3  Retail Food Establishment                  736   \n",
       "1223       3.0          38-3  Retail Food Establishment                  736   \n",
       "2027      21.0         47-21  Retail Food Establishment                  775   \n",
       "2251      10.0          1-10  Retail Food Establishment                  775   \n",
       "\n",
       "                          BUSINESS ACTIVITY   LATITUDE  LONGITUDE  \\\n",
       "201        Retail Sales of Perishable Foods  41.879616 -87.639765   \n",
       "840   Preparation of Food, Coffee or Drinks  41.950348 -87.807329   \n",
       "1223  Preparation of Food, Coffee or Drinks  41.950348 -87.807329   \n",
       "2027       Retail Sales of Perishable Foods  41.961409 -87.690796   \n",
       "2251       Retail Sales of Perishable Foods  41.924668 -87.699992   \n",
       "\n",
       "                                     LOCATION lc_start_date    year  \n",
       "201   (41.87961626801739, -87.63976452343368)    2020-09-16  2020.0  \n",
       "840   (41.95034769269968, -87.80732944580947)    2017-12-14  2017.0  \n",
       "1223  (41.95034769269968, -87.80732944580947)    2019-12-16  2019.0  \n",
       "2027   (41.96140869447139, -87.6907962429884)    2020-12-16  2020.0  \n",
       "2251  (41.92466824748827, -87.69999236109766)    2020-10-16  2020.0  "
      ],
      "text/html": [
       "<div>\n",
       "<style scoped>\n",
       "    .dataframe tbody tr th:only-of-type {\n",
       "        vertical-align: middle;\n",
       "    }\n",
       "\n",
       "    .dataframe tbody tr th {\n",
       "        vertical-align: top;\n",
       "    }\n",
       "\n",
       "    .dataframe thead th {\n",
       "        text-align: right;\n",
       "    }\n",
       "</style>\n",
       "<table border=\"1\" class=\"dataframe\">\n",
       "  <thead>\n",
       "    <tr style=\"text-align: right;\">\n",
       "      <th></th>\n",
       "      <th>names_doingbusiness</th>\n",
       "      <th>names_businessactivity</th>\n",
       "      <th>names_legalactivity</th>\n",
       "      <th>keep_row</th>\n",
       "      <th>ID</th>\n",
       "      <th>ADDRESS</th>\n",
       "      <th>ZIP CODE</th>\n",
       "      <th>WARD</th>\n",
       "      <th>PRECINCT</th>\n",
       "      <th>WARD PRECINCT</th>\n",
       "      <th>LICENSE DESCRIPTION</th>\n",
       "      <th>BUSINESS ACTIVITY ID</th>\n",
       "      <th>BUSINESS ACTIVITY</th>\n",
       "      <th>LATITUDE</th>\n",
       "      <th>LONGITUDE</th>\n",
       "      <th>LOCATION</th>\n",
       "      <th>lc_start_date</th>\n",
       "      <th>year</th>\n",
       "    </tr>\n",
       "  </thead>\n",
       "  <tbody>\n",
       "    <tr>\n",
       "      <th>201</th>\n",
       "      <td>arturo express</td>\n",
       "      <td>retail sales of perishable foods</td>\n",
       "      <td>arturo coffee inc</td>\n",
       "      <td>1</td>\n",
       "      <td>53931-20200916</td>\n",
       "      <td>130 S CANAL ST</td>\n",
       "      <td>60606</td>\n",
       "      <td>42.0</td>\n",
       "      <td>12.0</td>\n",
       "      <td>42-12</td>\n",
       "      <td>Retail Food Establishment</td>\n",
       "      <td>775</td>\n",
       "      <td>Retail Sales of Perishable Foods</td>\n",
       "      <td>41.879616</td>\n",
       "      <td>-87.639765</td>\n",
       "      <td>(41.87961626801739, -87.63976452343368)</td>\n",
       "      <td>2020-09-16</td>\n",
       "      <td>2020.0</td>\n",
       "    </tr>\n",
       "    <tr>\n",
       "      <th>840</th>\n",
       "      <td>social junkie</td>\n",
       "      <td>preparation of food, coffee or drinks</td>\n",
       "      <td>3848 n. harlem tavern llc</td>\n",
       "      <td>1</td>\n",
       "      <td>2551384-20171214</td>\n",
       "      <td>3848 N HARLEM AVE 1</td>\n",
       "      <td>60634</td>\n",
       "      <td>38.0</td>\n",
       "      <td>3.0</td>\n",
       "      <td>38-3</td>\n",
       "      <td>Retail Food Establishment</td>\n",
       "      <td>736</td>\n",
       "      <td>Preparation of Food, Coffee or Drinks</td>\n",
       "      <td>41.950348</td>\n",
       "      <td>-87.807329</td>\n",
       "      <td>(41.95034769269968, -87.80732944580947)</td>\n",
       "      <td>2017-12-14</td>\n",
       "      <td>2017.0</td>\n",
       "    </tr>\n",
       "    <tr>\n",
       "      <th>1223</th>\n",
       "      <td>social junkie</td>\n",
       "      <td>preparation of food, coffee or drinks</td>\n",
       "      <td>3848 n. harlem tavern llc</td>\n",
       "      <td>1</td>\n",
       "      <td>2551384-20191216</td>\n",
       "      <td>3848 N HARLEM AVE 1</td>\n",
       "      <td>60634</td>\n",
       "      <td>38.0</td>\n",
       "      <td>3.0</td>\n",
       "      <td>38-3</td>\n",
       "      <td>Retail Food Establishment</td>\n",
       "      <td>736</td>\n",
       "      <td>Preparation of Food, Coffee or Drinks</td>\n",
       "      <td>41.950348</td>\n",
       "      <td>-87.807329</td>\n",
       "      <td>(41.95034769269968, -87.80732944580947)</td>\n",
       "      <td>2019-12-16</td>\n",
       "      <td>2019.0</td>\n",
       "    </tr>\n",
       "    <tr>\n",
       "      <th>2027</th>\n",
       "      <td>lutz continental cafe &amp; pastry shop</td>\n",
       "      <td>retail sales of perishable foods</td>\n",
       "      <td>pastry partners, inc.</td>\n",
       "      <td>1</td>\n",
       "      <td>1356917-20201216</td>\n",
       "      <td>2454-2458 W MONTROSE AVE</td>\n",
       "      <td>60618</td>\n",
       "      <td>47.0</td>\n",
       "      <td>21.0</td>\n",
       "      <td>47-21</td>\n",
       "      <td>Retail Food Establishment</td>\n",
       "      <td>775</td>\n",
       "      <td>Retail Sales of Perishable Foods</td>\n",
       "      <td>41.961409</td>\n",
       "      <td>-87.690796</td>\n",
       "      <td>(41.96140869447139, -87.6907962429884)</td>\n",
       "      <td>2020-12-16</td>\n",
       "      <td>2020.0</td>\n",
       "    </tr>\n",
       "    <tr>\n",
       "      <th>2251</th>\n",
       "      <td>gaslight coffee roasters</td>\n",
       "      <td>retail sales of perishable foods</td>\n",
       "      <td>gaslight coffee roasters llc</td>\n",
       "      <td>1</td>\n",
       "      <td>2185009-20201016</td>\n",
       "      <td>2385 N MILWAUKEE AVE</td>\n",
       "      <td>60647</td>\n",
       "      <td>1.0</td>\n",
       "      <td>10.0</td>\n",
       "      <td>1-10</td>\n",
       "      <td>Retail Food Establishment</td>\n",
       "      <td>775</td>\n",
       "      <td>Retail Sales of Perishable Foods</td>\n",
       "      <td>41.924668</td>\n",
       "      <td>-87.699992</td>\n",
       "      <td>(41.92466824748827, -87.69999236109766)</td>\n",
       "      <td>2020-10-16</td>\n",
       "      <td>2020.0</td>\n",
       "    </tr>\n",
       "  </tbody>\n",
       "</table>\n",
       "</div>"
      ]
     },
     "metadata": {},
     "execution_count": 10
    }
   ],
   "metadata": {}
  },
  {
   "cell_type": "code",
   "execution_count": 11,
   "source": [
    "df.drop(['names_businessactivity', 'names_legalactivity','ADDRESS', 'ZIP CODE', 'WARD', 'PRECINCT',\n",
    "       'WARD PRECINCT', 'LICENSE DESCRIPTION', 'BUSINESS ACTIVITY ID',\n",
    "       'BUSINESS ACTIVITY','lc_start_date'],axis=1,inplace=True)"
   ],
   "outputs": [],
   "metadata": {}
  },
  {
   "cell_type": "code",
   "execution_count": 10,
   "source": [
    "df.to_csv(\"CoffeeShops_byLatitude.csv\")"
   ],
   "outputs": [],
   "metadata": {}
  },
  {
   "cell_type": "code",
   "execution_count": null,
   "source": [],
   "outputs": [],
   "metadata": {}
  },
  {
   "cell_type": "markdown",
   "source": [
    "# Mapping to Community Areas"
   ],
   "metadata": {}
  },
  {
   "cell_type": "markdown",
   "source": [
    "#### Option A: This code demonstrates how to take the shapefile provided on the City of Chicago Open Data Portal and converts it to a JSON file, with top-level keys named for each neighborhood, and associated values that give the latitude and longitude pairs corresponding to the neighborhood's boundaries. For example: (https://github.com/craigmbooth/chicago_neighborhood_finder)\n",
    "\n",
    "#Fails to build GDAL"
   ],
   "metadata": {}
  },
  {
   "cell_type": "markdown",
   "source": [
    "#### Option B: Determining Chicago neighborhood from latitude and longitude. The script uses a GeoJSON file containing polygons of Chicago neighborhoods. Once all of the polygons have been generated, a simple point in polygon algorithm is used to determine which neighborhood contains the point of interest. (https://github.com/jkgiesler/parse-chicago-neighborhoods/blob/master/gps_to_neighborhood.py)"
   ],
   "metadata": {}
  },
  {
   "cell_type": "code",
   "execution_count": 11,
   "source": [
    "df_loc=pd.DataFrame(df.LONGITUDE)\n",
    "df_loc['LATITUDE']=pd.DataFrame(df.LATITUDE)"
   ],
   "outputs": [],
   "metadata": {}
  },
  {
   "cell_type": "code",
   "execution_count": 12,
   "source": [
    "loc = pd.read_csv(\"Locations_withCCA.csv\")\n",
    "lookup= pd.read_csv(\"location_lookup.csv\")"
   ],
   "outputs": [
    {
     "output_type": "error",
     "ename": "FileNotFoundError",
     "evalue": "[Errno 2] No such file or directory: 'Locations_withCCA.csv'",
     "traceback": [
      "\u001b[0;31m---------------------------------------------------------------------------\u001b[0m",
      "\u001b[0;31mFileNotFoundError\u001b[0m                         Traceback (most recent call last)",
      "\u001b[0;32m/var/folders/kh/87ng8q257z1g_2h2h6g4fkj00000gn/T/ipykernel_12606/1602638135.py\u001b[0m in \u001b[0;36m<module>\u001b[0;34m\u001b[0m\n\u001b[0;32m----> 1\u001b[0;31m \u001b[0mloc\u001b[0m \u001b[0;34m=\u001b[0m \u001b[0mpd\u001b[0m\u001b[0;34m.\u001b[0m\u001b[0mread_csv\u001b[0m\u001b[0;34m(\u001b[0m\u001b[0;34m\"Locations_withCCA.csv\"\u001b[0m\u001b[0;34m)\u001b[0m\u001b[0;34m\u001b[0m\u001b[0;34m\u001b[0m\u001b[0m\n\u001b[0m\u001b[1;32m      2\u001b[0m \u001b[0mlookup\u001b[0m\u001b[0;34m=\u001b[0m \u001b[0mpd\u001b[0m\u001b[0;34m.\u001b[0m\u001b[0mread_csv\u001b[0m\u001b[0;34m(\u001b[0m\u001b[0;34m\"location_lookup.csv\"\u001b[0m\u001b[0;34m)\u001b[0m\u001b[0;34m\u001b[0m\u001b[0;34m\u001b[0m\u001b[0m\n",
      "\u001b[0;32m~/opt/miniconda3/envs/venv1/lib/python3.9/site-packages/pandas/util/_decorators.py\u001b[0m in \u001b[0;36mwrapper\u001b[0;34m(*args, **kwargs)\u001b[0m\n\u001b[1;32m    309\u001b[0m                     \u001b[0mstacklevel\u001b[0m\u001b[0;34m=\u001b[0m\u001b[0mstacklevel\u001b[0m\u001b[0;34m,\u001b[0m\u001b[0;34m\u001b[0m\u001b[0;34m\u001b[0m\u001b[0m\n\u001b[1;32m    310\u001b[0m                 )\n\u001b[0;32m--> 311\u001b[0;31m             \u001b[0;32mreturn\u001b[0m \u001b[0mfunc\u001b[0m\u001b[0;34m(\u001b[0m\u001b[0;34m*\u001b[0m\u001b[0margs\u001b[0m\u001b[0;34m,\u001b[0m \u001b[0;34m**\u001b[0m\u001b[0mkwargs\u001b[0m\u001b[0;34m)\u001b[0m\u001b[0;34m\u001b[0m\u001b[0;34m\u001b[0m\u001b[0m\n\u001b[0m\u001b[1;32m    312\u001b[0m \u001b[0;34m\u001b[0m\u001b[0m\n\u001b[1;32m    313\u001b[0m         \u001b[0;32mreturn\u001b[0m \u001b[0mwrapper\u001b[0m\u001b[0;34m\u001b[0m\u001b[0;34m\u001b[0m\u001b[0m\n",
      "\u001b[0;32m~/opt/miniconda3/envs/venv1/lib/python3.9/site-packages/pandas/io/parsers/readers.py\u001b[0m in \u001b[0;36mread_csv\u001b[0;34m(filepath_or_buffer, sep, delimiter, header, names, index_col, usecols, squeeze, prefix, mangle_dupe_cols, dtype, engine, converters, true_values, false_values, skipinitialspace, skiprows, skipfooter, nrows, na_values, keep_default_na, na_filter, verbose, skip_blank_lines, parse_dates, infer_datetime_format, keep_date_col, date_parser, dayfirst, cache_dates, iterator, chunksize, compression, thousands, decimal, lineterminator, quotechar, quoting, doublequote, escapechar, comment, encoding, encoding_errors, dialect, error_bad_lines, warn_bad_lines, on_bad_lines, delim_whitespace, low_memory, memory_map, float_precision, storage_options)\u001b[0m\n\u001b[1;32m    584\u001b[0m     \u001b[0mkwds\u001b[0m\u001b[0;34m.\u001b[0m\u001b[0mupdate\u001b[0m\u001b[0;34m(\u001b[0m\u001b[0mkwds_defaults\u001b[0m\u001b[0;34m)\u001b[0m\u001b[0;34m\u001b[0m\u001b[0;34m\u001b[0m\u001b[0m\n\u001b[1;32m    585\u001b[0m \u001b[0;34m\u001b[0m\u001b[0m\n\u001b[0;32m--> 586\u001b[0;31m     \u001b[0;32mreturn\u001b[0m \u001b[0m_read\u001b[0m\u001b[0;34m(\u001b[0m\u001b[0mfilepath_or_buffer\u001b[0m\u001b[0;34m,\u001b[0m \u001b[0mkwds\u001b[0m\u001b[0;34m)\u001b[0m\u001b[0;34m\u001b[0m\u001b[0;34m\u001b[0m\u001b[0m\n\u001b[0m\u001b[1;32m    587\u001b[0m \u001b[0;34m\u001b[0m\u001b[0m\n\u001b[1;32m    588\u001b[0m \u001b[0;34m\u001b[0m\u001b[0m\n",
      "\u001b[0;32m~/opt/miniconda3/envs/venv1/lib/python3.9/site-packages/pandas/io/parsers/readers.py\u001b[0m in \u001b[0;36m_read\u001b[0;34m(filepath_or_buffer, kwds)\u001b[0m\n\u001b[1;32m    480\u001b[0m \u001b[0;34m\u001b[0m\u001b[0m\n\u001b[1;32m    481\u001b[0m     \u001b[0;31m# Create the parser.\u001b[0m\u001b[0;34m\u001b[0m\u001b[0;34m\u001b[0m\u001b[0;34m\u001b[0m\u001b[0m\n\u001b[0;32m--> 482\u001b[0;31m     \u001b[0mparser\u001b[0m \u001b[0;34m=\u001b[0m \u001b[0mTextFileReader\u001b[0m\u001b[0;34m(\u001b[0m\u001b[0mfilepath_or_buffer\u001b[0m\u001b[0;34m,\u001b[0m \u001b[0;34m**\u001b[0m\u001b[0mkwds\u001b[0m\u001b[0;34m)\u001b[0m\u001b[0;34m\u001b[0m\u001b[0;34m\u001b[0m\u001b[0m\n\u001b[0m\u001b[1;32m    483\u001b[0m \u001b[0;34m\u001b[0m\u001b[0m\n\u001b[1;32m    484\u001b[0m     \u001b[0;32mif\u001b[0m \u001b[0mchunksize\u001b[0m \u001b[0;32mor\u001b[0m \u001b[0miterator\u001b[0m\u001b[0;34m:\u001b[0m\u001b[0;34m\u001b[0m\u001b[0;34m\u001b[0m\u001b[0m\n",
      "\u001b[0;32m~/opt/miniconda3/envs/venv1/lib/python3.9/site-packages/pandas/io/parsers/readers.py\u001b[0m in \u001b[0;36m__init__\u001b[0;34m(self, f, engine, **kwds)\u001b[0m\n\u001b[1;32m    809\u001b[0m             \u001b[0mself\u001b[0m\u001b[0;34m.\u001b[0m\u001b[0moptions\u001b[0m\u001b[0;34m[\u001b[0m\u001b[0;34m\"has_index_names\"\u001b[0m\u001b[0;34m]\u001b[0m \u001b[0;34m=\u001b[0m \u001b[0mkwds\u001b[0m\u001b[0;34m[\u001b[0m\u001b[0;34m\"has_index_names\"\u001b[0m\u001b[0;34m]\u001b[0m\u001b[0;34m\u001b[0m\u001b[0;34m\u001b[0m\u001b[0m\n\u001b[1;32m    810\u001b[0m \u001b[0;34m\u001b[0m\u001b[0m\n\u001b[0;32m--> 811\u001b[0;31m         \u001b[0mself\u001b[0m\u001b[0;34m.\u001b[0m\u001b[0m_engine\u001b[0m \u001b[0;34m=\u001b[0m \u001b[0mself\u001b[0m\u001b[0;34m.\u001b[0m\u001b[0m_make_engine\u001b[0m\u001b[0;34m(\u001b[0m\u001b[0mself\u001b[0m\u001b[0;34m.\u001b[0m\u001b[0mengine\u001b[0m\u001b[0;34m)\u001b[0m\u001b[0;34m\u001b[0m\u001b[0;34m\u001b[0m\u001b[0m\n\u001b[0m\u001b[1;32m    812\u001b[0m \u001b[0;34m\u001b[0m\u001b[0m\n\u001b[1;32m    813\u001b[0m     \u001b[0;32mdef\u001b[0m \u001b[0mclose\u001b[0m\u001b[0;34m(\u001b[0m\u001b[0mself\u001b[0m\u001b[0;34m)\u001b[0m\u001b[0;34m:\u001b[0m\u001b[0;34m\u001b[0m\u001b[0;34m\u001b[0m\u001b[0m\n",
      "\u001b[0;32m~/opt/miniconda3/envs/venv1/lib/python3.9/site-packages/pandas/io/parsers/readers.py\u001b[0m in \u001b[0;36m_make_engine\u001b[0;34m(self, engine)\u001b[0m\n\u001b[1;32m   1038\u001b[0m             )\n\u001b[1;32m   1039\u001b[0m         \u001b[0;31m# error: Too many arguments for \"ParserBase\"\u001b[0m\u001b[0;34m\u001b[0m\u001b[0;34m\u001b[0m\u001b[0;34m\u001b[0m\u001b[0m\n\u001b[0;32m-> 1040\u001b[0;31m         \u001b[0;32mreturn\u001b[0m \u001b[0mmapping\u001b[0m\u001b[0;34m[\u001b[0m\u001b[0mengine\u001b[0m\u001b[0;34m]\u001b[0m\u001b[0;34m(\u001b[0m\u001b[0mself\u001b[0m\u001b[0;34m.\u001b[0m\u001b[0mf\u001b[0m\u001b[0;34m,\u001b[0m \u001b[0;34m**\u001b[0m\u001b[0mself\u001b[0m\u001b[0;34m.\u001b[0m\u001b[0moptions\u001b[0m\u001b[0;34m)\u001b[0m  \u001b[0;31m# type: ignore[call-arg]\u001b[0m\u001b[0;34m\u001b[0m\u001b[0;34m\u001b[0m\u001b[0m\n\u001b[0m\u001b[1;32m   1041\u001b[0m \u001b[0;34m\u001b[0m\u001b[0m\n\u001b[1;32m   1042\u001b[0m     \u001b[0;32mdef\u001b[0m \u001b[0m_failover_to_python\u001b[0m\u001b[0;34m(\u001b[0m\u001b[0mself\u001b[0m\u001b[0;34m)\u001b[0m\u001b[0;34m:\u001b[0m\u001b[0;34m\u001b[0m\u001b[0;34m\u001b[0m\u001b[0m\n",
      "\u001b[0;32m~/opt/miniconda3/envs/venv1/lib/python3.9/site-packages/pandas/io/parsers/c_parser_wrapper.py\u001b[0m in \u001b[0;36m__init__\u001b[0;34m(self, src, **kwds)\u001b[0m\n\u001b[1;32m     49\u001b[0m \u001b[0;34m\u001b[0m\u001b[0m\n\u001b[1;32m     50\u001b[0m         \u001b[0;31m# open handles\u001b[0m\u001b[0;34m\u001b[0m\u001b[0;34m\u001b[0m\u001b[0;34m\u001b[0m\u001b[0m\n\u001b[0;32m---> 51\u001b[0;31m         \u001b[0mself\u001b[0m\u001b[0;34m.\u001b[0m\u001b[0m_open_handles\u001b[0m\u001b[0;34m(\u001b[0m\u001b[0msrc\u001b[0m\u001b[0;34m,\u001b[0m \u001b[0mkwds\u001b[0m\u001b[0;34m)\u001b[0m\u001b[0;34m\u001b[0m\u001b[0;34m\u001b[0m\u001b[0m\n\u001b[0m\u001b[1;32m     52\u001b[0m         \u001b[0;32massert\u001b[0m \u001b[0mself\u001b[0m\u001b[0;34m.\u001b[0m\u001b[0mhandles\u001b[0m \u001b[0;32mis\u001b[0m \u001b[0;32mnot\u001b[0m \u001b[0;32mNone\u001b[0m\u001b[0;34m\u001b[0m\u001b[0;34m\u001b[0m\u001b[0m\n\u001b[1;32m     53\u001b[0m \u001b[0;34m\u001b[0m\u001b[0m\n",
      "\u001b[0;32m~/opt/miniconda3/envs/venv1/lib/python3.9/site-packages/pandas/io/parsers/base_parser.py\u001b[0m in \u001b[0;36m_open_handles\u001b[0;34m(self, src, kwds)\u001b[0m\n\u001b[1;32m    220\u001b[0m         \u001b[0mLet\u001b[0m \u001b[0mthe\u001b[0m \u001b[0mreaders\u001b[0m \u001b[0mopen\u001b[0m \u001b[0mIOHandles\u001b[0m \u001b[0mafter\u001b[0m \u001b[0mthey\u001b[0m \u001b[0mare\u001b[0m \u001b[0mdone\u001b[0m \u001b[0;32mwith\u001b[0m \u001b[0mtheir\u001b[0m \u001b[0mpotential\u001b[0m \u001b[0mraises\u001b[0m\u001b[0;34m.\u001b[0m\u001b[0;34m\u001b[0m\u001b[0;34m\u001b[0m\u001b[0m\n\u001b[1;32m    221\u001b[0m         \"\"\"\n\u001b[0;32m--> 222\u001b[0;31m         self.handles = get_handle(\n\u001b[0m\u001b[1;32m    223\u001b[0m             \u001b[0msrc\u001b[0m\u001b[0;34m,\u001b[0m\u001b[0;34m\u001b[0m\u001b[0;34m\u001b[0m\u001b[0m\n\u001b[1;32m    224\u001b[0m             \u001b[0;34m\"r\"\u001b[0m\u001b[0;34m,\u001b[0m\u001b[0;34m\u001b[0m\u001b[0;34m\u001b[0m\u001b[0m\n",
      "\u001b[0;32m~/opt/miniconda3/envs/venv1/lib/python3.9/site-packages/pandas/io/common.py\u001b[0m in \u001b[0;36mget_handle\u001b[0;34m(path_or_buf, mode, encoding, compression, memory_map, is_text, errors, storage_options)\u001b[0m\n\u001b[1;32m    699\u001b[0m         \u001b[0;32mif\u001b[0m \u001b[0mioargs\u001b[0m\u001b[0;34m.\u001b[0m\u001b[0mencoding\u001b[0m \u001b[0;32mand\u001b[0m \u001b[0;34m\"b\"\u001b[0m \u001b[0;32mnot\u001b[0m \u001b[0;32min\u001b[0m \u001b[0mioargs\u001b[0m\u001b[0;34m.\u001b[0m\u001b[0mmode\u001b[0m\u001b[0;34m:\u001b[0m\u001b[0;34m\u001b[0m\u001b[0;34m\u001b[0m\u001b[0m\n\u001b[1;32m    700\u001b[0m             \u001b[0;31m# Encoding\u001b[0m\u001b[0;34m\u001b[0m\u001b[0;34m\u001b[0m\u001b[0;34m\u001b[0m\u001b[0m\n\u001b[0;32m--> 701\u001b[0;31m             handle = open(\n\u001b[0m\u001b[1;32m    702\u001b[0m                 \u001b[0mhandle\u001b[0m\u001b[0;34m,\u001b[0m\u001b[0;34m\u001b[0m\u001b[0;34m\u001b[0m\u001b[0m\n\u001b[1;32m    703\u001b[0m                 \u001b[0mioargs\u001b[0m\u001b[0;34m.\u001b[0m\u001b[0mmode\u001b[0m\u001b[0;34m,\u001b[0m\u001b[0;34m\u001b[0m\u001b[0;34m\u001b[0m\u001b[0m\n",
      "\u001b[0;31mFileNotFoundError\u001b[0m: [Errno 2] No such file or directory: 'Locations_withCCA.csv'"
     ]
    }
   ],
   "metadata": {}
  },
  {
   "cell_type": "code",
   "execution_count": null,
   "source": [
    "loc.CCA=loc.CCA.str.title()"
   ],
   "outputs": [],
   "metadata": {}
  },
  {
   "cell_type": "code",
   "execution_count": null,
   "source": [
    "loc=loc.replace({'Andersonville': 'Edgewater','Archer Heights,West Elsdon':'Archer Heights','Armour Square,Chinatown':'Armour Square',\n",
    "'Belmont Cragin,Hermosa':'Belmont Cragin','Avalon Park,Calumet Heights':'Avalon Park','Belmont Craigin,Hermosa':'Belmont Cragin',\n",
    "'Brighton Park,Mckinley Park':'Brighton Park','Wicker Park,West Town':'West Town','Back Of The Yards':'New City','Bronzeville':'Douglas','Bucktown':'Logan Square',\n",
    "'Chatham,Burnside':'Burnside', 'Garfield Park': 'East Garfield Park','Wrigleyville':'Lakeview','West Loop':'Near West Side','Washington Heights,Roseland':'Washington Heights',\n",
    "'United Center':'Near West Side','Ukrainian Village And East Village':'West Town','Streeterville': 'Near North Side', 'Southeast Side':'South Chicago',\n",
    "'South Shore, Grand Crossing':'South Shore','Sheffield & Depaul':'Lincoln Park', 'Sauganash,Forest Glen': 'Forest Glen', 'Rush & Division':'Near North Side',  'River North': 'Near North Side',\n",
    " 'Printers Row':'Loop', 'Old Town': 'Near North Side', 'North Park,Albany Park':'Albany Park', 'Museum Campus':'Loop', 'Mount Greenwood,Morgan Park': 'Morgan Park',\n",
    "  'Gold Coast':'Lincoln Park',\n",
    " 'Grant Park':'Loop','Greektown':'Near West Side', 'Irving Park,Avondale': 'Avondale', 'Kenwood,Oakland': 'Kenwood','Jackson Park':'South Deering','Little Italy, Uic':'Near West Side','Marquette Park,Gage Park':'Gage Park',\n",
    " 'Montclare, Galewood':'Montclare','Midway Airport':'Garfield Ridge','Little Village':'South Lawndale','Lakeview':'Lake View','Millenium Park':'Loop'\n",
    "})\n"
   ],
   "outputs": [],
   "metadata": {}
  },
  {
   "cell_type": "code",
   "execution_count": 310,
   "source": [
    "# df_loc.to_csv(\"Locations.csv\")\n",
    "## run gps_to_neighborhood.py\n",
    "locations = loc\n",
    "locations['LOCATION'] = list(zip(locations.LATITUDE, locations.LONGITUDE))\n",
    "locations = locations.drop([\"Unnamed: 0\", \"Unnamed: 0.1\"], axis=1)\n",
    "locations.head()\n"
   ],
   "outputs": [
    {
     "output_type": "execute_result",
     "data": {
      "text/plain": [
       "   LONGITUDE   LATITUDE             CCA                       LOCATION\n",
       "0 -87.639765  41.879616  Near West Side  (41.879616268, -87.639764523)\n",
       "1 -87.807329  41.950348         Dunning  (41.950347693, -87.807329446)\n",
       "2 -87.807329  41.950348         Dunning  (41.950347693, -87.807329446)\n",
       "3 -87.690796  41.961409  Lincoln Square  (41.961408694, -87.690796243)\n",
       "4 -87.699992  41.924668    Logan Square  (41.924668247, -87.699992361)"
      ],
      "text/html": [
       "<div>\n",
       "<style scoped>\n",
       "    .dataframe tbody tr th:only-of-type {\n",
       "        vertical-align: middle;\n",
       "    }\n",
       "\n",
       "    .dataframe tbody tr th {\n",
       "        vertical-align: top;\n",
       "    }\n",
       "\n",
       "    .dataframe thead th {\n",
       "        text-align: right;\n",
       "    }\n",
       "</style>\n",
       "<table border=\"1\" class=\"dataframe\">\n",
       "  <thead>\n",
       "    <tr style=\"text-align: right;\">\n",
       "      <th></th>\n",
       "      <th>LONGITUDE</th>\n",
       "      <th>LATITUDE</th>\n",
       "      <th>CCA</th>\n",
       "      <th>LOCATION</th>\n",
       "    </tr>\n",
       "  </thead>\n",
       "  <tbody>\n",
       "    <tr>\n",
       "      <th>0</th>\n",
       "      <td>-87.639765</td>\n",
       "      <td>41.879616</td>\n",
       "      <td>Near West Side</td>\n",
       "      <td>(41.879616268, -87.639764523)</td>\n",
       "    </tr>\n",
       "    <tr>\n",
       "      <th>1</th>\n",
       "      <td>-87.807329</td>\n",
       "      <td>41.950348</td>\n",
       "      <td>Dunning</td>\n",
       "      <td>(41.950347693, -87.807329446)</td>\n",
       "    </tr>\n",
       "    <tr>\n",
       "      <th>2</th>\n",
       "      <td>-87.807329</td>\n",
       "      <td>41.950348</td>\n",
       "      <td>Dunning</td>\n",
       "      <td>(41.950347693, -87.807329446)</td>\n",
       "    </tr>\n",
       "    <tr>\n",
       "      <th>3</th>\n",
       "      <td>-87.690796</td>\n",
       "      <td>41.961409</td>\n",
       "      <td>Lincoln Square</td>\n",
       "      <td>(41.961408694, -87.690796243)</td>\n",
       "    </tr>\n",
       "    <tr>\n",
       "      <th>4</th>\n",
       "      <td>-87.699992</td>\n",
       "      <td>41.924668</td>\n",
       "      <td>Logan Square</td>\n",
       "      <td>(41.924668247, -87.699992361)</td>\n",
       "    </tr>\n",
       "  </tbody>\n",
       "</table>\n",
       "</div>"
      ]
     },
     "metadata": {},
     "execution_count": 310
    }
   ],
   "metadata": {}
  },
  {
   "cell_type": "code",
   "execution_count": 311,
   "source": [
    "locations['CCA']= np.where(locations.LATITUDE.isnull(),np.nan, locations['CCA'])"
   ],
   "outputs": [],
   "metadata": {}
  },
  {
   "cell_type": "code",
   "execution_count": 312,
   "source": [
    "#(100 * locations.isna().sum()) / len(locations)  # Missing 8.14% data for Wards\n"
   ],
   "outputs": [],
   "metadata": {}
  },
  {
   "cell_type": "code",
   "execution_count": 313,
   "source": [
    "lookup.columns=['CCA_id','CCA']"
   ],
   "outputs": [],
   "metadata": {}
  },
  {
   "cell_type": "code",
   "execution_count": 314,
   "source": [
    "locations_new=pd.merge(locations,lookup,on=\"CCA\",how=\"left\")\n",
    "locations_new.CCA.nunique()"
   ],
   "outputs": [
    {
     "output_type": "execute_result",
     "data": {
      "text/plain": [
       "56"
      ]
     },
     "metadata": {},
     "execution_count": 314
    }
   ],
   "metadata": {}
  },
  {
   "cell_type": "code",
   "execution_count": 315,
   "source": [
    "locations_new.shape"
   ],
   "outputs": [
    {
     "output_type": "execute_result",
     "data": {
      "text/plain": [
       "(15499, 5)"
      ]
     },
     "metadata": {},
     "execution_count": 315
    }
   ],
   "metadata": {}
  },
  {
   "cell_type": "code",
   "execution_count": 316,
   "source": [
    "locations.shape"
   ],
   "outputs": [
    {
     "output_type": "execute_result",
     "data": {
      "text/plain": [
       "(15499, 4)"
      ]
     },
     "metadata": {},
     "execution_count": 316
    }
   ],
   "metadata": {}
  },
  {
   "cell_type": "code",
   "execution_count": 317,
   "source": [
    "df.shape"
   ],
   "outputs": [
    {
     "output_type": "execute_result",
     "data": {
      "text/plain": [
       "(15499, 18)"
      ]
     },
     "metadata": {},
     "execution_count": 317
    }
   ],
   "metadata": {}
  },
  {
   "cell_type": "code",
   "execution_count": 318,
   "source": [
    "df['CCA']=pd.DataFrame(locations['CCA'].values)\n",
    "df=df.reset_index()"
   ],
   "outputs": [],
   "metadata": {}
  },
  {
   "cell_type": "code",
   "execution_count": 319,
   "source": [
    "df['CCA']=pd.DataFrame(locations['CCA'].values)"
   ],
   "outputs": [],
   "metadata": {}
  },
  {
   "cell_type": "code",
   "execution_count": 320,
   "source": [
    "(100 * df.isna().sum()) / len(df)  # Missing 8.14% data for Wards\n"
   ],
   "outputs": [
    {
     "output_type": "execute_result",
     "data": {
      "text/plain": [
       "index                      0.000000\n",
       "names_doingbusiness        0.000000\n",
       "names_businessactivity     0.000000\n",
       "names_legalactivity        0.000000\n",
       "keep_row                   0.000000\n",
       "ID                         0.000000\n",
       "ADDRESS                    0.000000\n",
       "ZIP CODE                   0.038712\n",
       "WARD                       0.019356\n",
       "PRECINCT                   7.290793\n",
       "WARD PRECINCT              0.019356\n",
       "LICENSE DESCRIPTION        0.000000\n",
       "BUSINESS ACTIVITY ID      11.355571\n",
       "BUSINESS ACTIVITY         11.355571\n",
       "LATITUDE                   0.625847\n",
       "LONGITUDE                  0.625847\n",
       "LOCATION                   0.625847\n",
       "lc_start_date              0.000000\n",
       "year                       0.000000\n",
       "CCA                        4.606749\n",
       "dtype: float64"
      ]
     },
     "metadata": {},
     "execution_count": 320
    }
   ],
   "metadata": {}
  },
  {
   "cell_type": "code",
   "execution_count": 321,
   "source": [
    "coffee_by_year_CCA=df[[\"year\",\"CCA\",\"keep_row\"]].groupby([\"CCA\",\"year\"],as_index=False).count()"
   ],
   "outputs": [],
   "metadata": {}
  },
  {
   "cell_type": "code",
   "execution_count": 4,
   "source": [
    "import pandas as pd\n",
    "os.chdir('/Users/sarwaridas/Desktop/IDS 702/Final Project/ids720_CoffeeAndCrimes/02_processed_data')\n",
    "#coffee_by_year_CCA.to_csv(\"coffee_by_year_CCA.csv\")\n",
    "coffee_by_year_CCA=pd.read_csv(\"coffee_by_year_CCA.csv\")"
   ],
   "outputs": [],
   "metadata": {}
  },
  {
   "cell_type": "code",
   "execution_count": 5,
   "source": [
    "coffee_by_year_CCA.head()"
   ],
   "outputs": [
    {
     "output_type": "execute_result",
     "data": {
      "text/plain": [
       "   Unnamed: 0          CCA    year  keep_row\n",
       "0           0  Albany Park  2001.0         2\n",
       "1           1  Albany Park  2002.0        22\n",
       "2           2  Albany Park  2003.0        28\n",
       "3           3  Albany Park  2004.0        32\n",
       "4           4  Albany Park  2005.0        34"
      ],
      "text/html": [
       "<div>\n",
       "<style scoped>\n",
       "    .dataframe tbody tr th:only-of-type {\n",
       "        vertical-align: middle;\n",
       "    }\n",
       "\n",
       "    .dataframe tbody tr th {\n",
       "        vertical-align: top;\n",
       "    }\n",
       "\n",
       "    .dataframe thead th {\n",
       "        text-align: right;\n",
       "    }\n",
       "</style>\n",
       "<table border=\"1\" class=\"dataframe\">\n",
       "  <thead>\n",
       "    <tr style=\"text-align: right;\">\n",
       "      <th></th>\n",
       "      <th>Unnamed: 0</th>\n",
       "      <th>CCA</th>\n",
       "      <th>year</th>\n",
       "      <th>keep_row</th>\n",
       "    </tr>\n",
       "  </thead>\n",
       "  <tbody>\n",
       "    <tr>\n",
       "      <th>0</th>\n",
       "      <td>0</td>\n",
       "      <td>Albany Park</td>\n",
       "      <td>2001.0</td>\n",
       "      <td>2</td>\n",
       "    </tr>\n",
       "    <tr>\n",
       "      <th>1</th>\n",
       "      <td>1</td>\n",
       "      <td>Albany Park</td>\n",
       "      <td>2002.0</td>\n",
       "      <td>22</td>\n",
       "    </tr>\n",
       "    <tr>\n",
       "      <th>2</th>\n",
       "      <td>2</td>\n",
       "      <td>Albany Park</td>\n",
       "      <td>2003.0</td>\n",
       "      <td>28</td>\n",
       "    </tr>\n",
       "    <tr>\n",
       "      <th>3</th>\n",
       "      <td>3</td>\n",
       "      <td>Albany Park</td>\n",
       "      <td>2004.0</td>\n",
       "      <td>32</td>\n",
       "    </tr>\n",
       "    <tr>\n",
       "      <th>4</th>\n",
       "      <td>4</td>\n",
       "      <td>Albany Park</td>\n",
       "      <td>2005.0</td>\n",
       "      <td>34</td>\n",
       "    </tr>\n",
       "  </tbody>\n",
       "</table>\n",
       "</div>"
      ]
     },
     "metadata": {},
     "execution_count": 5
    }
   ],
   "metadata": {}
  },
  {
   "cell_type": "code",
   "execution_count": 16,
   "source": [
    "coffee_by_year_CCA.CCA.nunique()"
   ],
   "outputs": [
    {
     "output_type": "execute_result",
     "data": {
      "text/plain": [
       "56"
      ]
     },
     "metadata": {},
     "execution_count": 16
    }
   ],
   "metadata": {}
  },
  {
   "cell_type": "code",
   "execution_count": 324,
   "source": [
    "coffee_by_year_CCA.CCA.unique()"
   ],
   "outputs": [
    {
     "output_type": "execute_result",
     "data": {
      "text/plain": [
       "array(['Albany Park', 'Archer Heights', 'Armour Square', 'Ashburn',\n",
       "       'Auburn Gresham', 'Austin', 'Avalon Park', 'Avondale',\n",
       "       'Belmont Cragin', 'Beverly', 'Bridgeport', 'Brighton Park',\n",
       "       'Burnside', 'Douglas', 'Dunning', 'East Garfield Park',\n",
       "       'Edgewater', 'Edison Park', 'Englewood', 'Forest Glen',\n",
       "       'Gage Park', 'Garfield Ridge', 'Humboldt Park', 'Hyde Park',\n",
       "       'Jefferson Park', 'Kenwood', 'Lake View', 'Lincoln Park',\n",
       "       'Lincoln Square', 'Logan Square', 'Loop', 'Lower West Side',\n",
       "       'Montclare', 'Morgan Park', 'Near North Side', 'Near South Side',\n",
       "       'Near West Side', 'New City', 'North Center', 'North Lawndale',\n",
       "       'Norwood Park', 'Portage Park', 'Pullman', 'Rogers Park',\n",
       "       'South Chicago', 'South Deering', 'South Lawndale', 'South Shore',\n",
       "       'Uptown', 'Washington Heights', 'Washington Park', 'West Lawn',\n",
       "       'West Pullman', 'West Ridge', 'West Town', 'Woodlawn'],\n",
       "      dtype=object)"
      ]
     },
     "metadata": {},
     "execution_count": 324
    }
   ],
   "metadata": {}
  },
  {
   "cell_type": "code",
   "execution_count": null,
   "source": [],
   "outputs": [],
   "metadata": {}
  }
 ],
 "metadata": {
  "orig_nbformat": 4,
  "language_info": {
   "name": "python",
   "version": "3.9.0",
   "mimetype": "text/x-python",
   "codemirror_mode": {
    "name": "ipython",
    "version": 3
   },
   "pygments_lexer": "ipython3",
   "nbconvert_exporter": "python",
   "file_extension": ".py"
  },
  "kernelspec": {
   "name": "python3",
   "display_name": "Python 3.9.0 64-bit ('venv1': conda)"
  },
  "interpreter": {
   "hash": "7a6d299408f2023e0a200d93f96af30feb246c6cc222adc42d2612aa5ba88688"
  }
 },
 "nbformat": 4,
 "nbformat_minor": 2
}