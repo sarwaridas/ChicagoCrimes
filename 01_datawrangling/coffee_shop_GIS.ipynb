{
    "cells": [
        {
            "cell_type": "code",
            "execution_count": 52,
            "source": [
                "# importing libraries\n",
                "import pandas as pd # Reading csv file \n",
                "from shapely.geometry import Point # Shapely for converting latitude/longtitude to geometry\n",
                "import geopandas as gpd # To create GeodataFrame"
            ],
            "outputs": [],
            "metadata": {}
        },
        {
            "cell_type": "code",
            "execution_count": 53,
            "source": [
                "os.getcwd()"
            ],
            "outputs": [
                {
                    "output_type": "execute_result",
                    "data": {
                        "text/plain": [
                            "'/Users/sarwaridas/Desktop/IDS 702/Final Project/ids720_CoffeeAndCrimes/02_processed_data'"
                        ]
                    },
                    "metadata": {},
                    "execution_count": 53
                }
            ],
            "metadata": {}
        },
        {
            "cell_type": "markdown",
            "source": [
                "## Creating point location"
            ],
            "metadata": {}
        },
        {
            "cell_type": "code",
            "execution_count": 54,
            "source": [
                "os.chdir('/Users/sarwaridas/Desktop/IDS 702/Final Project/ids720_CoffeeAndCrimes/00_sourcedata')\n",
                "df= pd.read_csv(\"CoffeeShops_byLatitude.csv\")\n",
                "df.head()"
            ],
            "outputs": [
                {
                    "output_type": "execute_result",
                    "data": {
                        "text/plain": [
                            "   Unnamed: 0                  names_doingbusiness  keep_row  \\\n",
                            "0         201                       arturo express         1   \n",
                            "1         840                        social junkie         1   \n",
                            "2        1223                        social junkie         1   \n",
                            "3        2027  lutz continental cafe & pastry shop         1   \n",
                            "4        2251             gaslight coffee roasters         1   \n",
                            "\n",
                            "                 ID   LATITUDE  LONGITUDE  \\\n",
                            "0    53931-20200916  41.879616 -87.639765   \n",
                            "1  2551384-20171214  41.950348 -87.807329   \n",
                            "2  2551384-20191216  41.950348 -87.807329   \n",
                            "3  1356917-20201216  41.961409 -87.690796   \n",
                            "4  2185009-20201016  41.924668 -87.699992   \n",
                            "\n",
                            "                                  LOCATION    year  \n",
                            "0  (41.87961626801739, -87.63976452343368)  2020.0  \n",
                            "1  (41.95034769269968, -87.80732944580947)  2017.0  \n",
                            "2  (41.95034769269968, -87.80732944580947)  2019.0  \n",
                            "3   (41.96140869447139, -87.6907962429884)  2020.0  \n",
                            "4  (41.92466824748827, -87.69999236109766)  2020.0  "
                        ],
                        "text/html": [
                            "<div>\n",
                            "<style scoped>\n",
                            "    .dataframe tbody tr th:only-of-type {\n",
                            "        vertical-align: middle;\n",
                            "    }\n",
                            "\n",
                            "    .dataframe tbody tr th {\n",
                            "        vertical-align: top;\n",
                            "    }\n",
                            "\n",
                            "    .dataframe thead th {\n",
                            "        text-align: right;\n",
                            "    }\n",
                            "</style>\n",
                            "<table border=\"1\" class=\"dataframe\">\n",
                            "  <thead>\n",
                            "    <tr style=\"text-align: right;\">\n",
                            "      <th></th>\n",
                            "      <th>Unnamed: 0</th>\n",
                            "      <th>names_doingbusiness</th>\n",
                            "      <th>keep_row</th>\n",
                            "      <th>ID</th>\n",
                            "      <th>LATITUDE</th>\n",
                            "      <th>LONGITUDE</th>\n",
                            "      <th>LOCATION</th>\n",
                            "      <th>year</th>\n",
                            "    </tr>\n",
                            "  </thead>\n",
                            "  <tbody>\n",
                            "    <tr>\n",
                            "      <th>0</th>\n",
                            "      <td>201</td>\n",
                            "      <td>arturo express</td>\n",
                            "      <td>1</td>\n",
                            "      <td>53931-20200916</td>\n",
                            "      <td>41.879616</td>\n",
                            "      <td>-87.639765</td>\n",
                            "      <td>(41.87961626801739, -87.63976452343368)</td>\n",
                            "      <td>2020.0</td>\n",
                            "    </tr>\n",
                            "    <tr>\n",
                            "      <th>1</th>\n",
                            "      <td>840</td>\n",
                            "      <td>social junkie</td>\n",
                            "      <td>1</td>\n",
                            "      <td>2551384-20171214</td>\n",
                            "      <td>41.950348</td>\n",
                            "      <td>-87.807329</td>\n",
                            "      <td>(41.95034769269968, -87.80732944580947)</td>\n",
                            "      <td>2017.0</td>\n",
                            "    </tr>\n",
                            "    <tr>\n",
                            "      <th>2</th>\n",
                            "      <td>1223</td>\n",
                            "      <td>social junkie</td>\n",
                            "      <td>1</td>\n",
                            "      <td>2551384-20191216</td>\n",
                            "      <td>41.950348</td>\n",
                            "      <td>-87.807329</td>\n",
                            "      <td>(41.95034769269968, -87.80732944580947)</td>\n",
                            "      <td>2019.0</td>\n",
                            "    </tr>\n",
                            "    <tr>\n",
                            "      <th>3</th>\n",
                            "      <td>2027</td>\n",
                            "      <td>lutz continental cafe &amp; pastry shop</td>\n",
                            "      <td>1</td>\n",
                            "      <td>1356917-20201216</td>\n",
                            "      <td>41.961409</td>\n",
                            "      <td>-87.690796</td>\n",
                            "      <td>(41.96140869447139, -87.6907962429884)</td>\n",
                            "      <td>2020.0</td>\n",
                            "    </tr>\n",
                            "    <tr>\n",
                            "      <th>4</th>\n",
                            "      <td>2251</td>\n",
                            "      <td>gaslight coffee roasters</td>\n",
                            "      <td>1</td>\n",
                            "      <td>2185009-20201016</td>\n",
                            "      <td>41.924668</td>\n",
                            "      <td>-87.699992</td>\n",
                            "      <td>(41.92466824748827, -87.69999236109766)</td>\n",
                            "      <td>2020.0</td>\n",
                            "    </tr>\n",
                            "  </tbody>\n",
                            "</table>\n",
                            "</div>"
                        ]
                    },
                    "metadata": {},
                    "execution_count": 54
                }
            ],
            "metadata": {}
        },
        {
            "cell_type": "code",
            "execution_count": 55,
            "source": [
                "geometry = [Point(xy) for xy in zip(df['LONGITUDE'],df['LATITUDE'])]\n",
                "# Coordinate reference system : WGS84\n",
                "crs = {'init': 'EPSG:4326'}\n",
                "\n",
                "# Creating a Geographic data frame \n",
                "gdf = gpd.GeoDataFrame(df, crs=crs, geometry=geometry)\n",
                "gdf= gdf.set_crs(\"EPSG:4326\",allow_override=True)\n"
            ],
            "outputs": [
                {
                    "output_type": "stream",
                    "name": "stderr",
                    "text": [
                        "/Users/sarwaridas/opt/miniconda3/envs/geo/lib/python3.9/site-packages/pyproj/crs/crs.py:131: FutureWarning: '+init=<authority>:<code>' syntax is deprecated. '<authority>:<code>' is the preferred initialization method. When making the change, be mindful of axis order changes: https://pyproj4.github.io/pyproj/stable/gotchas.html#axis-order-changes-in-proj-6\n",
                        "  in_crs_string = _prepare_from_proj_string(in_crs_string)\n"
                    ]
                }
            ],
            "metadata": {}
        },
        {
            "cell_type": "code",
            "execution_count": 56,
            "source": [
                "gdf.crs"
            ],
            "outputs": [
                {
                    "output_type": "execute_result",
                    "data": {
                        "text/plain": [
                            "<Geographic 2D CRS: EPSG:4326>\n",
                            "Name: WGS 84\n",
                            "Axis Info [ellipsoidal]:\n",
                            "- Lat[north]: Geodetic latitude (degree)\n",
                            "- Lon[east]: Geodetic longitude (degree)\n",
                            "Area of Use:\n",
                            "- name: World.\n",
                            "- bounds: (-180.0, -90.0, 180.0, 90.0)\n",
                            "Datum: World Geodetic System 1984 ensemble\n",
                            "- Ellipsoid: WGS 84\n",
                            "- Prime Meridian: Greenwich"
                        ]
                    },
                    "metadata": {},
                    "execution_count": 56
                }
            ],
            "metadata": {}
        },
        {
            "cell_type": "code",
            "execution_count": 57,
            "source": [
                "boundaries.geometry"
            ],
            "outputs": [
                {
                    "output_type": "execute_result",
                    "data": {
                        "text/plain": [
                            "0     POLYGON ((-87.60914 41.84469, -87.60915 41.844...\n",
                            "1     POLYGON ((-87.59215 41.81693, -87.59231 41.816...\n",
                            "2     POLYGON ((-87.62880 41.80189, -87.62879 41.801...\n",
                            "3     POLYGON ((-87.60671 41.81681, -87.60670 41.816...\n",
                            "4     POLYGON ((-87.59215 41.81693, -87.59215 41.816...\n",
                            "                            ...                        \n",
                            "72    POLYGON ((-87.69646 41.70714, -87.69644 41.706...\n",
                            "73    POLYGON ((-87.64215 41.68508, -87.64249 41.685...\n",
                            "74    MULTIPOLYGON (((-87.83658 41.98640, -87.83658 ...\n",
                            "75    POLYGON ((-87.65456 41.99817, -87.65456 41.998...\n",
                            "76    POLYGON ((-87.80676 42.00084, -87.80676 42.000...\n",
                            "Name: geometry, Length: 77, dtype: geometry"
                        ]
                    },
                    "metadata": {},
                    "execution_count": 57
                }
            ],
            "metadata": {}
        },
        {
            "cell_type": "code",
            "execution_count": 58,
            "source": [
                "gdf.geometry"
            ],
            "outputs": [
                {
                    "output_type": "execute_result",
                    "data": {
                        "text/plain": [
                            "0        POINT (-87.63976 41.87962)\n",
                            "1        POINT (-87.80733 41.95035)\n",
                            "2        POINT (-87.80733 41.95035)\n",
                            "3        POINT (-87.69080 41.96141)\n",
                            "4        POINT (-87.69999 41.92467)\n",
                            "                    ...            \n",
                            "15494    POINT (-87.63212 41.85094)\n",
                            "15495    POINT (-87.65530 41.99193)\n",
                            "15496    POINT (-87.66063 41.99736)\n",
                            "15497    POINT (-87.63471 41.88671)\n",
                            "15498    POINT (-87.62504 41.88199)\n",
                            "Name: geometry, Length: 15499, dtype: geometry"
                        ]
                    },
                    "metadata": {},
                    "execution_count": 58
                }
            ],
            "metadata": {}
        },
        {
            "cell_type": "code",
            "execution_count": 59,
            "source": [
                "gdf.loc[gdf['names_doingbusiness']==\"hegewisch nutrition\"]"
            ],
            "outputs": [
                {
                    "output_type": "execute_result",
                    "data": {
                        "text/plain": [
                            "       Unnamed: 0  names_doingbusiness  keep_row                ID   LATITUDE  \\\n",
                            "12988      929773  hegewisch nutrition         1  2738264-20200707  41.648743   \n",
                            "\n",
                            "       LONGITUDE                                  LOCATION    year  \\\n",
                            "12988 -87.546082  (41.648742509014895, -87.54608218874857)  2020.0   \n",
                            "\n",
                            "                         geometry  \n",
                            "12988  POINT (-87.54608 41.64874)  "
                        ],
                        "text/html": [
                            "<div>\n",
                            "<style scoped>\n",
                            "    .dataframe tbody tr th:only-of-type {\n",
                            "        vertical-align: middle;\n",
                            "    }\n",
                            "\n",
                            "    .dataframe tbody tr th {\n",
                            "        vertical-align: top;\n",
                            "    }\n",
                            "\n",
                            "    .dataframe thead th {\n",
                            "        text-align: right;\n",
                            "    }\n",
                            "</style>\n",
                            "<table border=\"1\" class=\"dataframe\">\n",
                            "  <thead>\n",
                            "    <tr style=\"text-align: right;\">\n",
                            "      <th></th>\n",
                            "      <th>Unnamed: 0</th>\n",
                            "      <th>names_doingbusiness</th>\n",
                            "      <th>keep_row</th>\n",
                            "      <th>ID</th>\n",
                            "      <th>LATITUDE</th>\n",
                            "      <th>LONGITUDE</th>\n",
                            "      <th>LOCATION</th>\n",
                            "      <th>year</th>\n",
                            "      <th>geometry</th>\n",
                            "    </tr>\n",
                            "  </thead>\n",
                            "  <tbody>\n",
                            "    <tr>\n",
                            "      <th>12988</th>\n",
                            "      <td>929773</td>\n",
                            "      <td>hegewisch nutrition</td>\n",
                            "      <td>1</td>\n",
                            "      <td>2738264-20200707</td>\n",
                            "      <td>41.648743</td>\n",
                            "      <td>-87.546082</td>\n",
                            "      <td>(41.648742509014895, -87.54608218874857)</td>\n",
                            "      <td>2020.0</td>\n",
                            "      <td>POINT (-87.54608 41.64874)</td>\n",
                            "    </tr>\n",
                            "  </tbody>\n",
                            "</table>\n",
                            "</div>"
                        ]
                    },
                    "metadata": {},
                    "execution_count": 59
                }
            ],
            "metadata": {}
        },
        {
            "cell_type": "markdown",
            "source": [
                "## Mapping point to community area"
            ],
            "metadata": {}
        },
        {
            "cell_type": "code",
            "execution_count": 60,
            "source": [
                "boundaries= gpd.read_file(\"/Users/sarwaridas/Desktop/IDS 702/Final Project/ids720_CoffeeAndCrimes/00_sourcedata/Boundaries/geo_export_5bdaf3fc-172d-4e90-b507-028e2a2f0c83.dbf\")\n",
                "boundaries.head()"
            ],
            "outputs": [
                {
                    "output_type": "execute_result",
                    "data": {
                        "text/plain": [
                            "   area area_num_1 area_numbe  comarea  comarea_id        community  \\\n",
                            "0   0.0         35         35      0.0         0.0          DOUGLAS   \n",
                            "1   0.0         36         36      0.0         0.0          OAKLAND   \n",
                            "2   0.0         37         37      0.0         0.0      FULLER PARK   \n",
                            "3   0.0         38         38      0.0         0.0  GRAND BOULEVARD   \n",
                            "4   0.0         39         39      0.0         0.0          KENWOOD   \n",
                            "\n",
                            "   perimeter    shape_area     shape_len  \\\n",
                            "0        0.0  4.600462e+07  31027.054510   \n",
                            "1        0.0  1.691396e+07  19565.506153   \n",
                            "2        0.0  1.991670e+07  25339.089750   \n",
                            "3        0.0  4.849250e+07  28196.837157   \n",
                            "4        0.0  2.907174e+07  23325.167906   \n",
                            "\n",
                            "                                            geometry  \n",
                            "0  POLYGON ((-87.60914 41.84469, -87.60915 41.844...  \n",
                            "1  POLYGON ((-87.59215 41.81693, -87.59231 41.816...  \n",
                            "2  POLYGON ((-87.62880 41.80189, -87.62879 41.801...  \n",
                            "3  POLYGON ((-87.60671 41.81681, -87.60670 41.816...  \n",
                            "4  POLYGON ((-87.59215 41.81693, -87.59215 41.816...  "
                        ],
                        "text/html": [
                            "<div>\n",
                            "<style scoped>\n",
                            "    .dataframe tbody tr th:only-of-type {\n",
                            "        vertical-align: middle;\n",
                            "    }\n",
                            "\n",
                            "    .dataframe tbody tr th {\n",
                            "        vertical-align: top;\n",
                            "    }\n",
                            "\n",
                            "    .dataframe thead th {\n",
                            "        text-align: right;\n",
                            "    }\n",
                            "</style>\n",
                            "<table border=\"1\" class=\"dataframe\">\n",
                            "  <thead>\n",
                            "    <tr style=\"text-align: right;\">\n",
                            "      <th></th>\n",
                            "      <th>area</th>\n",
                            "      <th>area_num_1</th>\n",
                            "      <th>area_numbe</th>\n",
                            "      <th>comarea</th>\n",
                            "      <th>comarea_id</th>\n",
                            "      <th>community</th>\n",
                            "      <th>perimeter</th>\n",
                            "      <th>shape_area</th>\n",
                            "      <th>shape_len</th>\n",
                            "      <th>geometry</th>\n",
                            "    </tr>\n",
                            "  </thead>\n",
                            "  <tbody>\n",
                            "    <tr>\n",
                            "      <th>0</th>\n",
                            "      <td>0.0</td>\n",
                            "      <td>35</td>\n",
                            "      <td>35</td>\n",
                            "      <td>0.0</td>\n",
                            "      <td>0.0</td>\n",
                            "      <td>DOUGLAS</td>\n",
                            "      <td>0.0</td>\n",
                            "      <td>4.600462e+07</td>\n",
                            "      <td>31027.054510</td>\n",
                            "      <td>POLYGON ((-87.60914 41.84469, -87.60915 41.844...</td>\n",
                            "    </tr>\n",
                            "    <tr>\n",
                            "      <th>1</th>\n",
                            "      <td>0.0</td>\n",
                            "      <td>36</td>\n",
                            "      <td>36</td>\n",
                            "      <td>0.0</td>\n",
                            "      <td>0.0</td>\n",
                            "      <td>OAKLAND</td>\n",
                            "      <td>0.0</td>\n",
                            "      <td>1.691396e+07</td>\n",
                            "      <td>19565.506153</td>\n",
                            "      <td>POLYGON ((-87.59215 41.81693, -87.59231 41.816...</td>\n",
                            "    </tr>\n",
                            "    <tr>\n",
                            "      <th>2</th>\n",
                            "      <td>0.0</td>\n",
                            "      <td>37</td>\n",
                            "      <td>37</td>\n",
                            "      <td>0.0</td>\n",
                            "      <td>0.0</td>\n",
                            "      <td>FULLER PARK</td>\n",
                            "      <td>0.0</td>\n",
                            "      <td>1.991670e+07</td>\n",
                            "      <td>25339.089750</td>\n",
                            "      <td>POLYGON ((-87.62880 41.80189, -87.62879 41.801...</td>\n",
                            "    </tr>\n",
                            "    <tr>\n",
                            "      <th>3</th>\n",
                            "      <td>0.0</td>\n",
                            "      <td>38</td>\n",
                            "      <td>38</td>\n",
                            "      <td>0.0</td>\n",
                            "      <td>0.0</td>\n",
                            "      <td>GRAND BOULEVARD</td>\n",
                            "      <td>0.0</td>\n",
                            "      <td>4.849250e+07</td>\n",
                            "      <td>28196.837157</td>\n",
                            "      <td>POLYGON ((-87.60671 41.81681, -87.60670 41.816...</td>\n",
                            "    </tr>\n",
                            "    <tr>\n",
                            "      <th>4</th>\n",
                            "      <td>0.0</td>\n",
                            "      <td>39</td>\n",
                            "      <td>39</td>\n",
                            "      <td>0.0</td>\n",
                            "      <td>0.0</td>\n",
                            "      <td>KENWOOD</td>\n",
                            "      <td>0.0</td>\n",
                            "      <td>2.907174e+07</td>\n",
                            "      <td>23325.167906</td>\n",
                            "      <td>POLYGON ((-87.59215 41.81693, -87.59215 41.816...</td>\n",
                            "    </tr>\n",
                            "  </tbody>\n",
                            "</table>\n",
                            "</div>"
                        ]
                    },
                    "metadata": {},
                    "execution_count": 60
                }
            ],
            "metadata": {}
        },
        {
            "cell_type": "code",
            "execution_count": 61,
            "source": [
                "distance_to_cca = gdf.sjoin(boundaries, how=\"left\", predicate='intersects')\n",
                "distance_to_cca.sample(10)"
            ],
            "outputs": [
                {
                    "output_type": "execute_result",
                    "data": {
                        "text/plain": [
                            "       Unnamed: 0       names_doingbusiness  keep_row                ID  \\\n",
                            "2098       202096           jazzy bean cafe         1  1070164-20020216   \n",
                            "223         72844  ritual coffeehouse, inc.         1  2428196-20170123   \n",
                            "5822       448028                thyme cafe         1    81825-20041116   \n",
                            "11497      827713      edgewater beach cafe         1     7556-20110716   \n",
                            "12134      871492     starbucks coffee #226         1  2398567-20150831   \n",
                            "8021       594204    caribou coffee company         1    52559-20120216   \n",
                            "6741       512002                 haru cafe         1  2134011-20120228   \n",
                            "6832       517674          chef sara's cafe         1  2108057-20110928   \n",
                            "14256      999542   amstar fuel & mini mart         1  2464243-20210116   \n",
                            "3482       297811    starbucks coffee #2494         1  1139799-20040216   \n",
                            "\n",
                            "        LATITUDE  LONGITUDE                                  LOCATION    year  \\\n",
                            "2098   41.830490 -87.676207    (41.83048987325396, -87.6762068763212)  2002.0   \n",
                            "223    41.954095 -87.675048   (41.95409491446792, -87.67504823784746)  2017.0   \n",
                            "5822   41.909420 -87.676195  (41.909420030729095, -87.67619508256817)  2004.0   \n",
                            "11497  41.982989 -87.655021   (41.98298901767028, -87.65502137980539)  2011.0   \n",
                            "12134  41.799667 -87.587815   (41.79966712287017, -87.58781452378159)  2015.0   \n",
                            "8021   41.937140 -87.648228   (41.93714019635578, -87.64822754792601)  2012.0   \n",
                            "6741   41.987385 -87.702567    (41.98738484942677, -87.7025668399143)  2012.0   \n",
                            "6832   41.764509 -87.564739  (41.764509172574805, -87.56473939232829)  2011.0   \n",
                            "14256  41.854983 -87.724996   (41.85498313235789, -87.72499648315791)  2021.0   \n",
                            "3482   41.928817 -87.658379  (41.928816915505855, -87.65837883656692)  2004.0   \n",
                            "\n",
                            "                         geometry  index_right  area area_num_1 area_numbe  \\\n",
                            "2098   POINT (-87.67621 41.83049)         43.0   0.0         59         59   \n",
                            "223    POINT (-87.67505 41.95409)         47.0   0.0          5          5   \n",
                            "5822   POINT (-87.67620 41.90942)         24.0   0.0         24         24   \n",
                            "11497  POINT (-87.65502 41.98299)         75.0   0.0         77         77   \n",
                            "12134  POINT (-87.58781 41.79967)          7.0   0.0         41         41   \n",
                            "8021   POINT (-87.64823 41.93714)         44.0   0.0          6          6   \n",
                            "6741   POINT (-87.70257 41.98738)         19.0   0.0          2          2   \n",
                            "6832   POINT (-87.56474 41.76451)         38.0   0.0         43         43   \n",
                            "14256  POINT (-87.72500 41.85498)         29.0   0.0         29         29   \n",
                            "3482   POINT (-87.65838 41.92882)         67.0   0.0          7          7   \n",
                            "\n",
                            "       comarea  comarea_id       community  perimeter    shape_area  \\\n",
                            "2098       0.0         0.0   MCKINLEY PARK        0.0  3.943180e+07   \n",
                            "223        0.0         0.0    NORTH CENTER        0.0  5.705417e+07   \n",
                            "5822       0.0         0.0       WEST TOWN        0.0  1.275629e+08   \n",
                            "11497      0.0         0.0       EDGEWATER        0.0  4.844999e+07   \n",
                            "12134      0.0         0.0       HYDE PARK        0.0  4.510538e+07   \n",
                            "8021       0.0         0.0       LAKE VIEW        0.0  8.721480e+07   \n",
                            "6741       0.0         0.0      WEST RIDGE        0.0  9.842909e+07   \n",
                            "6832       0.0         0.0     SOUTH SHORE        0.0  8.181272e+07   \n",
                            "14256      0.0         0.0  NORTH LAWNDALE        0.0  8.948742e+07   \n",
                            "3482       0.0         0.0    LINCOLN PARK        0.0  8.831640e+07   \n",
                            "\n",
                            "          shape_len  \n",
                            "2098   26014.096837  \n",
                            "223    31391.669754  \n",
                            "5822   55203.718696  \n",
                            "11497  31004.830946  \n",
                            "12134  29746.708202  \n",
                            "8021   51973.096868  \n",
                            "6741   43020.689458  \n",
                            "6832   44249.646117  \n",
                            "14256  44959.459663  \n",
                            "3482   49478.427771  "
                        ],
                        "text/html": [
                            "<div>\n",
                            "<style scoped>\n",
                            "    .dataframe tbody tr th:only-of-type {\n",
                            "        vertical-align: middle;\n",
                            "    }\n",
                            "\n",
                            "    .dataframe tbody tr th {\n",
                            "        vertical-align: top;\n",
                            "    }\n",
                            "\n",
                            "    .dataframe thead th {\n",
                            "        text-align: right;\n",
                            "    }\n",
                            "</style>\n",
                            "<table border=\"1\" class=\"dataframe\">\n",
                            "  <thead>\n",
                            "    <tr style=\"text-align: right;\">\n",
                            "      <th></th>\n",
                            "      <th>Unnamed: 0</th>\n",
                            "      <th>names_doingbusiness</th>\n",
                            "      <th>keep_row</th>\n",
                            "      <th>ID</th>\n",
                            "      <th>LATITUDE</th>\n",
                            "      <th>LONGITUDE</th>\n",
                            "      <th>LOCATION</th>\n",
                            "      <th>year</th>\n",
                            "      <th>geometry</th>\n",
                            "      <th>index_right</th>\n",
                            "      <th>area</th>\n",
                            "      <th>area_num_1</th>\n",
                            "      <th>area_numbe</th>\n",
                            "      <th>comarea</th>\n",
                            "      <th>comarea_id</th>\n",
                            "      <th>community</th>\n",
                            "      <th>perimeter</th>\n",
                            "      <th>shape_area</th>\n",
                            "      <th>shape_len</th>\n",
                            "    </tr>\n",
                            "  </thead>\n",
                            "  <tbody>\n",
                            "    <tr>\n",
                            "      <th>2098</th>\n",
                            "      <td>202096</td>\n",
                            "      <td>jazzy bean cafe</td>\n",
                            "      <td>1</td>\n",
                            "      <td>1070164-20020216</td>\n",
                            "      <td>41.830490</td>\n",
                            "      <td>-87.676207</td>\n",
                            "      <td>(41.83048987325396, -87.6762068763212)</td>\n",
                            "      <td>2002.0</td>\n",
                            "      <td>POINT (-87.67621 41.83049)</td>\n",
                            "      <td>43.0</td>\n",
                            "      <td>0.0</td>\n",
                            "      <td>59</td>\n",
                            "      <td>59</td>\n",
                            "      <td>0.0</td>\n",
                            "      <td>0.0</td>\n",
                            "      <td>MCKINLEY PARK</td>\n",
                            "      <td>0.0</td>\n",
                            "      <td>3.943180e+07</td>\n",
                            "      <td>26014.096837</td>\n",
                            "    </tr>\n",
                            "    <tr>\n",
                            "      <th>223</th>\n",
                            "      <td>72844</td>\n",
                            "      <td>ritual coffeehouse, inc.</td>\n",
                            "      <td>1</td>\n",
                            "      <td>2428196-20170123</td>\n",
                            "      <td>41.954095</td>\n",
                            "      <td>-87.675048</td>\n",
                            "      <td>(41.95409491446792, -87.67504823784746)</td>\n",
                            "      <td>2017.0</td>\n",
                            "      <td>POINT (-87.67505 41.95409)</td>\n",
                            "      <td>47.0</td>\n",
                            "      <td>0.0</td>\n",
                            "      <td>5</td>\n",
                            "      <td>5</td>\n",
                            "      <td>0.0</td>\n",
                            "      <td>0.0</td>\n",
                            "      <td>NORTH CENTER</td>\n",
                            "      <td>0.0</td>\n",
                            "      <td>5.705417e+07</td>\n",
                            "      <td>31391.669754</td>\n",
                            "    </tr>\n",
                            "    <tr>\n",
                            "      <th>5822</th>\n",
                            "      <td>448028</td>\n",
                            "      <td>thyme cafe</td>\n",
                            "      <td>1</td>\n",
                            "      <td>81825-20041116</td>\n",
                            "      <td>41.909420</td>\n",
                            "      <td>-87.676195</td>\n",
                            "      <td>(41.909420030729095, -87.67619508256817)</td>\n",
                            "      <td>2004.0</td>\n",
                            "      <td>POINT (-87.67620 41.90942)</td>\n",
                            "      <td>24.0</td>\n",
                            "      <td>0.0</td>\n",
                            "      <td>24</td>\n",
                            "      <td>24</td>\n",
                            "      <td>0.0</td>\n",
                            "      <td>0.0</td>\n",
                            "      <td>WEST TOWN</td>\n",
                            "      <td>0.0</td>\n",
                            "      <td>1.275629e+08</td>\n",
                            "      <td>55203.718696</td>\n",
                            "    </tr>\n",
                            "    <tr>\n",
                            "      <th>11497</th>\n",
                            "      <td>827713</td>\n",
                            "      <td>edgewater beach cafe</td>\n",
                            "      <td>1</td>\n",
                            "      <td>7556-20110716</td>\n",
                            "      <td>41.982989</td>\n",
                            "      <td>-87.655021</td>\n",
                            "      <td>(41.98298901767028, -87.65502137980539)</td>\n",
                            "      <td>2011.0</td>\n",
                            "      <td>POINT (-87.65502 41.98299)</td>\n",
                            "      <td>75.0</td>\n",
                            "      <td>0.0</td>\n",
                            "      <td>77</td>\n",
                            "      <td>77</td>\n",
                            "      <td>0.0</td>\n",
                            "      <td>0.0</td>\n",
                            "      <td>EDGEWATER</td>\n",
                            "      <td>0.0</td>\n",
                            "      <td>4.844999e+07</td>\n",
                            "      <td>31004.830946</td>\n",
                            "    </tr>\n",
                            "    <tr>\n",
                            "      <th>12134</th>\n",
                            "      <td>871492</td>\n",
                            "      <td>starbucks coffee #226</td>\n",
                            "      <td>1</td>\n",
                            "      <td>2398567-20150831</td>\n",
                            "      <td>41.799667</td>\n",
                            "      <td>-87.587815</td>\n",
                            "      <td>(41.79966712287017, -87.58781452378159)</td>\n",
                            "      <td>2015.0</td>\n",
                            "      <td>POINT (-87.58781 41.79967)</td>\n",
                            "      <td>7.0</td>\n",
                            "      <td>0.0</td>\n",
                            "      <td>41</td>\n",
                            "      <td>41</td>\n",
                            "      <td>0.0</td>\n",
                            "      <td>0.0</td>\n",
                            "      <td>HYDE PARK</td>\n",
                            "      <td>0.0</td>\n",
                            "      <td>4.510538e+07</td>\n",
                            "      <td>29746.708202</td>\n",
                            "    </tr>\n",
                            "    <tr>\n",
                            "      <th>8021</th>\n",
                            "      <td>594204</td>\n",
                            "      <td>caribou coffee company</td>\n",
                            "      <td>1</td>\n",
                            "      <td>52559-20120216</td>\n",
                            "      <td>41.937140</td>\n",
                            "      <td>-87.648228</td>\n",
                            "      <td>(41.93714019635578, -87.64822754792601)</td>\n",
                            "      <td>2012.0</td>\n",
                            "      <td>POINT (-87.64823 41.93714)</td>\n",
                            "      <td>44.0</td>\n",
                            "      <td>0.0</td>\n",
                            "      <td>6</td>\n",
                            "      <td>6</td>\n",
                            "      <td>0.0</td>\n",
                            "      <td>0.0</td>\n",
                            "      <td>LAKE VIEW</td>\n",
                            "      <td>0.0</td>\n",
                            "      <td>8.721480e+07</td>\n",
                            "      <td>51973.096868</td>\n",
                            "    </tr>\n",
                            "    <tr>\n",
                            "      <th>6741</th>\n",
                            "      <td>512002</td>\n",
                            "      <td>haru cafe</td>\n",
                            "      <td>1</td>\n",
                            "      <td>2134011-20120228</td>\n",
                            "      <td>41.987385</td>\n",
                            "      <td>-87.702567</td>\n",
                            "      <td>(41.98738484942677, -87.7025668399143)</td>\n",
                            "      <td>2012.0</td>\n",
                            "      <td>POINT (-87.70257 41.98738)</td>\n",
                            "      <td>19.0</td>\n",
                            "      <td>0.0</td>\n",
                            "      <td>2</td>\n",
                            "      <td>2</td>\n",
                            "      <td>0.0</td>\n",
                            "      <td>0.0</td>\n",
                            "      <td>WEST RIDGE</td>\n",
                            "      <td>0.0</td>\n",
                            "      <td>9.842909e+07</td>\n",
                            "      <td>43020.689458</td>\n",
                            "    </tr>\n",
                            "    <tr>\n",
                            "      <th>6832</th>\n",
                            "      <td>517674</td>\n",
                            "      <td>chef sara's cafe</td>\n",
                            "      <td>1</td>\n",
                            "      <td>2108057-20110928</td>\n",
                            "      <td>41.764509</td>\n",
                            "      <td>-87.564739</td>\n",
                            "      <td>(41.764509172574805, -87.56473939232829)</td>\n",
                            "      <td>2011.0</td>\n",
                            "      <td>POINT (-87.56474 41.76451)</td>\n",
                            "      <td>38.0</td>\n",
                            "      <td>0.0</td>\n",
                            "      <td>43</td>\n",
                            "      <td>43</td>\n",
                            "      <td>0.0</td>\n",
                            "      <td>0.0</td>\n",
                            "      <td>SOUTH SHORE</td>\n",
                            "      <td>0.0</td>\n",
                            "      <td>8.181272e+07</td>\n",
                            "      <td>44249.646117</td>\n",
                            "    </tr>\n",
                            "    <tr>\n",
                            "      <th>14256</th>\n",
                            "      <td>999542</td>\n",
                            "      <td>amstar fuel &amp; mini mart</td>\n",
                            "      <td>1</td>\n",
                            "      <td>2464243-20210116</td>\n",
                            "      <td>41.854983</td>\n",
                            "      <td>-87.724996</td>\n",
                            "      <td>(41.85498313235789, -87.72499648315791)</td>\n",
                            "      <td>2021.0</td>\n",
                            "      <td>POINT (-87.72500 41.85498)</td>\n",
                            "      <td>29.0</td>\n",
                            "      <td>0.0</td>\n",
                            "      <td>29</td>\n",
                            "      <td>29</td>\n",
                            "      <td>0.0</td>\n",
                            "      <td>0.0</td>\n",
                            "      <td>NORTH LAWNDALE</td>\n",
                            "      <td>0.0</td>\n",
                            "      <td>8.948742e+07</td>\n",
                            "      <td>44959.459663</td>\n",
                            "    </tr>\n",
                            "    <tr>\n",
                            "      <th>3482</th>\n",
                            "      <td>297811</td>\n",
                            "      <td>starbucks coffee #2494</td>\n",
                            "      <td>1</td>\n",
                            "      <td>1139799-20040216</td>\n",
                            "      <td>41.928817</td>\n",
                            "      <td>-87.658379</td>\n",
                            "      <td>(41.928816915505855, -87.65837883656692)</td>\n",
                            "      <td>2004.0</td>\n",
                            "      <td>POINT (-87.65838 41.92882)</td>\n",
                            "      <td>67.0</td>\n",
                            "      <td>0.0</td>\n",
                            "      <td>7</td>\n",
                            "      <td>7</td>\n",
                            "      <td>0.0</td>\n",
                            "      <td>0.0</td>\n",
                            "      <td>LINCOLN PARK</td>\n",
                            "      <td>0.0</td>\n",
                            "      <td>8.831640e+07</td>\n",
                            "      <td>49478.427771</td>\n",
                            "    </tr>\n",
                            "  </tbody>\n",
                            "</table>\n",
                            "</div>"
                        ]
                    },
                    "metadata": {},
                    "execution_count": 61
                }
            ],
            "metadata": {}
        },
        {
            "cell_type": "code",
            "execution_count": 47,
            "source": [
                "# distance_to_cca=gdf.sjoin_nearest(boundaries[['geometry','community']], distance_col=\"distance\")\n",
                "# distance_to_cca.head() "
            ],
            "outputs": [],
            "metadata": {}
        },
        {
            "cell_type": "code",
            "execution_count": 63,
            "source": [
                "distance_to_cca.community.unique()"
            ],
            "outputs": [
                {
                    "output_type": "execute_result",
                    "data": {
                        "text/plain": [
                            "array(['NEAR WEST SIDE', 'DUNNING', 'LINCOLN SQUARE', 'LOGAN SQUARE',\n",
                            "       'NEAR NORTH SIDE', 'EAST GARFIELD PARK', 'BEVERLY',\n",
                            "       'WEST GARFIELD PARK', 'WEST TOWN', 'NORTH PARK', 'LINCOLN PARK',\n",
                            "       'CHICAGO LAWN', 'AUSTIN', 'UPTOWN', 'ALBANY PARK', 'AVONDALE',\n",
                            "       'HUMBOLDT PARK', 'LAKE VIEW', 'HYDE PARK', 'CLEARING',\n",
                            "       'BRIGHTON PARK', 'EDGEWATER', 'GRAND BOULEVARD', 'BELMONT CRAGIN',\n",
                            "       'SOUTH LAWNDALE', 'LOOP', 'GREATER GRAND CROSSING', 'IRVING PARK',\n",
                            "       'LOWER WEST SIDE', 'WOODLAWN', 'NEW CITY', 'PULLMAN', nan,\n",
                            "       'EAST SIDE', 'NEAR SOUTH SIDE', 'MONTCLARE', 'PORTAGE PARK',\n",
                            "       'AUBURN GRESHAM', 'GARFIELD RIDGE', 'FOREST GLEN', 'ARMOUR SQUARE',\n",
                            "       'ROGERS PARK', 'WEST ELSDON', 'CHATHAM', 'ROSELAND', 'BRIDGEPORT',\n",
                            "       'NORWOOD PARK', 'SOUTH SHORE', 'NORTH CENTER', 'KENWOOD',\n",
                            "       'WEST ENGLEWOOD', 'WEST RIDGE', 'ENGLEWOOD', 'HERMOSA',\n",
                            "       'MORGAN PARK', 'NORTH LAWNDALE', 'JEFFERSON PARK', 'AVALON PARK',\n",
                            "       'EDISON PARK', 'MOUNT GREENWOOD', 'WASHINGTON PARK',\n",
                            "       'CALUMET HEIGHTS', 'WEST LAWN', 'SOUTH CHICAGO', 'OHARE',\n",
                            "       'MCKINLEY PARK', 'SOUTH DEERING', 'WEST PULLMAN',\n",
                            "       'WASHINGTON HEIGHTS', 'DOUGLAS', 'GAGE PARK', 'ARCHER HEIGHTS',\n",
                            "       'FULLER PARK', 'HEGEWISCH', 'ASHBURN', 'BURNSIDE'], dtype=object)"
                        ]
                    },
                    "metadata": {},
                    "execution_count": 63
                }
            ],
            "metadata": {}
        },
        {
            "cell_type": "code",
            "execution_count": 64,
            "source": [
                "coffee_by_year_CCA_revised=distance_to_cca[['community','year','keep_row']].groupby(['community','year'],as_index=False).sum()\n",
                "coffee_by_year_CCA_revised.head()"
            ],
            "outputs": [
                {
                    "output_type": "execute_result",
                    "data": {
                        "text/plain": [
                            "     community    year  keep_row\n",
                            "0  ALBANY PARK  2002.0        11\n",
                            "1  ALBANY PARK  2003.0        12\n",
                            "2  ALBANY PARK  2004.0        17\n",
                            "3  ALBANY PARK  2005.0        21\n",
                            "4  ALBANY PARK  2006.0        20"
                        ],
                        "text/html": [
                            "<div>\n",
                            "<style scoped>\n",
                            "    .dataframe tbody tr th:only-of-type {\n",
                            "        vertical-align: middle;\n",
                            "    }\n",
                            "\n",
                            "    .dataframe tbody tr th {\n",
                            "        vertical-align: top;\n",
                            "    }\n",
                            "\n",
                            "    .dataframe thead th {\n",
                            "        text-align: right;\n",
                            "    }\n",
                            "</style>\n",
                            "<table border=\"1\" class=\"dataframe\">\n",
                            "  <thead>\n",
                            "    <tr style=\"text-align: right;\">\n",
                            "      <th></th>\n",
                            "      <th>community</th>\n",
                            "      <th>year</th>\n",
                            "      <th>keep_row</th>\n",
                            "    </tr>\n",
                            "  </thead>\n",
                            "  <tbody>\n",
                            "    <tr>\n",
                            "      <th>0</th>\n",
                            "      <td>ALBANY PARK</td>\n",
                            "      <td>2002.0</td>\n",
                            "      <td>11</td>\n",
                            "    </tr>\n",
                            "    <tr>\n",
                            "      <th>1</th>\n",
                            "      <td>ALBANY PARK</td>\n",
                            "      <td>2003.0</td>\n",
                            "      <td>12</td>\n",
                            "    </tr>\n",
                            "    <tr>\n",
                            "      <th>2</th>\n",
                            "      <td>ALBANY PARK</td>\n",
                            "      <td>2004.0</td>\n",
                            "      <td>17</td>\n",
                            "    </tr>\n",
                            "    <tr>\n",
                            "      <th>3</th>\n",
                            "      <td>ALBANY PARK</td>\n",
                            "      <td>2005.0</td>\n",
                            "      <td>21</td>\n",
                            "    </tr>\n",
                            "    <tr>\n",
                            "      <th>4</th>\n",
                            "      <td>ALBANY PARK</td>\n",
                            "      <td>2006.0</td>\n",
                            "      <td>20</td>\n",
                            "    </tr>\n",
                            "  </tbody>\n",
                            "</table>\n",
                            "</div>"
                        ]
                    },
                    "metadata": {},
                    "execution_count": 64
                }
            ],
            "metadata": {}
        },
        {
            "cell_type": "code",
            "execution_count": 65,
            "source": [
                "os.chdir('/Users/sarwaridas/Desktop/IDS 702/Final Project/ids720_CoffeeAndCrimes/02_processed_data')\n",
                "coffee_by_year_CCA_revised.to_csv(\"coffee_by_year_CCA_revised.csv\")\n"
            ],
            "outputs": [],
            "metadata": {}
        },
        {
            "cell_type": "code",
            "execution_count": 66,
            "source": [
                "coffee_by_year_CCA_revised.shape"
            ],
            "outputs": [
                {
                    "output_type": "execute_result",
                    "data": {
                        "text/plain": [
                            "(1209, 3)"
                        ]
                    },
                    "metadata": {},
                    "execution_count": 66
                }
            ],
            "metadata": {}
        },
        {
            "cell_type": "code",
            "execution_count": 67,
            "source": [
                "coffee_by_year_CCA_revised.nunique()"
            ],
            "outputs": [
                {
                    "output_type": "execute_result",
                    "data": {
                        "text/plain": [
                            "community    75\n",
                            "year         21\n",
                            "keep_row     95\n",
                            "dtype: int64"
                        ]
                    },
                    "metadata": {},
                    "execution_count": 67
                }
            ],
            "metadata": {}
        },
        {
            "cell_type": "code",
            "execution_count": 68,
            "source": [
                "coffee_by_year_CCA_revised1= coffee_by_year_CCA_revised.loc[coffee_by_year_CCA_revised.year>2004]\n",
                "coffee_by_year_CCA_revised1=coffee_by_year_CCA_revised1.loc[coffee_by_year_CCA_revised1.year<2020]\n",
                "coffee_by_year_CCA_revised1.shape"
            ],
            "outputs": [
                {
                    "output_type": "execute_result",
                    "data": {
                        "text/plain": [
                            "(864, 3)"
                        ]
                    },
                    "metadata": {},
                    "execution_count": 68
                }
            ],
            "metadata": {}
        },
        {
            "cell_type": "code",
            "execution_count": 69,
            "source": [
                "coffee_by_year_CCA_revised1.nunique()"
            ],
            "outputs": [
                {
                    "output_type": "execute_result",
                    "data": {
                        "text/plain": [
                            "community    75\n",
                            "year         15\n",
                            "keep_row     84\n",
                            "dtype: int64"
                        ]
                    },
                    "metadata": {},
                    "execution_count": 69
                }
            ],
            "metadata": {}
        },
        {
            "cell_type": "code",
            "execution_count": 75,
            "source": [
                "75*15"
            ],
            "outputs": [
                {
                    "output_type": "execute_result",
                    "data": {
                        "text/plain": [
                            "1125"
                        ]
                    },
                    "metadata": {},
                    "execution_count": 75
                }
            ],
            "metadata": {}
        },
        {
            "cell_type": "code",
            "execution_count": null,
            "source": [],
            "outputs": [],
            "metadata": {}
        }
    ],
    "metadata": {
        "orig_nbformat": 4,
        "language_info": {
            "name": "python",
            "version": "3.9.7",
            "mimetype": "text/x-python",
            "codemirror_mode": {
                "name": "ipython",
                "version": 3
            },
            "pygments_lexer": "ipython3",
            "nbconvert_exporter": "python",
            "file_extension": ".py"
        },
        "kernelspec": {
            "name": "python3",
            "display_name": "Python 3.9.7 64-bit ('geo': conda)"
        },
        "interpreter": {
            "hash": "d2f3028922bc3e75bc69374860f1f6a028ceea00467bd3777a9573eaf7ee479e"
        }
    },
    "nbformat": 4,
    "nbformat_minor": 2
}